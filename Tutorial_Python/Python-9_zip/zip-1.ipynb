{
 "cells": [
  {
   "cell_type": "markdown",
   "metadata": {},
   "source": [
    "# zip-1"
   ]
  },
  {
   "cell_type": "markdown",
   "metadata": {},
   "source": [
    "## 1. (13) 內建函數 any(), all(), zip() 介紹\n",
    "https://ithelp.ithome.com.tw/articles/10230859"
   ]
  },
  {
   "cell_type": "markdown",
   "metadata": {},
   "source": [
    "### 1-1. 咯咯的女生朋友"
   ]
  },
  {
   "cell_type": "code",
   "execution_count": 1,
   "metadata": {},
   "outputs": [
    {
     "name": "stdout",
     "output_type": "stream",
     "text": [
      "<zip object at 0x7fa5d20dc3c0>\n",
      "[('芸芸', '天秤', '餅乾'), ('萱萱', '金牛', '巧克力'), ('琳琳', '雙魚', '草莓'), ('娜娜', '雙子', '蛋糕')]\n"
     ]
    }
   ],
   "source": [
    "friends = [\"芸芸\", \"萱萱\", \"琳琳\", \"娜娜\"]\n",
    "stars = [\"天秤\", \"金牛\", \"雙魚\", \"雙子\"]\n",
    "likes = [\"餅乾\", \"巧克力\", \"草莓\", \"蛋糕\"]\n",
    "\n",
    "zipped = zip(friends, stars, likes)\n",
    "print(zipped)\n",
    "print(list(zipped))"
   ]
  },
  {
   "cell_type": "code",
   "execution_count": 2,
   "metadata": {},
   "outputs": [
    {
     "name": "stdout",
     "output_type": "stream",
     "text": [
      "[('芸芸', '天秤', '餅乾'), ('萱萱', '金牛', '巧克力'), ('琳琳', '雙魚', '草莓')]\n"
     ]
    }
   ],
   "source": [
    "friends = [\"芸芸\", \"萱萱\", \"琳琳\", \"娜娜\"]\n",
    "stars = [\"天秤\", \"金牛\", \"雙魚\"]\n",
    "likes = [\"餅乾\", \"巧克力\", \"草莓\", \"蛋糕\"]\n",
    "\n",
    "zipped = zip(friends, stars, likes)\n",
    "print(list(zipped))"
   ]
  },
  {
   "cell_type": "markdown",
   "metadata": {},
   "source": [
    "### 1-2. 還原「鏈」起來的資料"
   ]
  },
  {
   "cell_type": "code",
   "execution_count": 3,
   "metadata": {},
   "outputs": [
    {
     "name": "stdout",
     "output_type": "stream",
     "text": [
      "[('芸芸', '萱萱', '琳琳', '娜娜'), ('天秤', '金牛', '雙魚', '雙子'), ('餅乾', '巧克力', '草莓', '蛋糕')]\n"
     ]
    }
   ],
   "source": [
    "people1 = ('芸芸', '天秤', '餅乾')\n",
    "people2 = ('萱萱', '金牛', '巧克力')\n",
    "people3 = ('琳琳', '雙魚', '草莓')\n",
    "people4 = ('娜娜', '雙子', '蛋糕')\n",
    "\n",
    "zipped = zip(people1, people2, people3, people4)\n",
    "print(list(zipped))"
   ]
  },
  {
   "cell_type": "code",
   "execution_count": null,
   "metadata": {},
   "outputs": [],
   "source": []
  }
 ],
 "metadata": {
  "kernelspec": {
   "display_name": "Python 3",
   "language": "python",
   "name": "python3"
  },
  "language_info": {
   "codemirror_mode": {
    "name": "ipython",
    "version": 3
   },
   "file_extension": ".py",
   "mimetype": "text/x-python",
   "name": "python",
   "nbconvert_exporter": "python",
   "pygments_lexer": "ipython3",
   "version": "3.8.5"
  }
 },
 "nbformat": 4,
 "nbformat_minor": 4
}
