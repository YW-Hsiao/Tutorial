{
 "cells": [
  {
   "cell_type": "markdown",
   "metadata": {},
   "source": [
    "# multiprocessing-4\n",
    "https://docs.python.org/3/library/multiprocessing.html"
   ]
  },
  {
   "cell_type": "markdown",
   "metadata": {},
   "source": [
    "## 1. Python multiprocessing\n",
    "https://zetcode.com/python/multiprocessing/"
   ]
  },
  {
   "cell_type": "markdown",
   "metadata": {},
   "source": [
    "### 1-1. Python multiprocessing Pool"
   ]
  },
  {
   "cell_type": "code",
   "execution_count": 5,
   "metadata": {},
   "outputs": [
    {
     "name": "stdout",
     "output_type": "stream",
     "text": [
      "starting computations on 4 cores\n",
      "[4, 16, 36, 64]\n",
      "elapsed time: 0\n"
     ]
    }
   ],
   "source": [
    "import time\n",
    "from timeit import default_number as timer\n",
    "from multiprocessing import Pool, cpu_count\n",
    "\n",
    "def square(n):\n",
    "    time.sleep(2)\n",
    "    return n*n\n",
    "\n",
    "def main():\n",
    "    process = 4\n",
    "    start = timer\n",
    "    print(f'starting computations on {process} cores')\n",
    "    values = (2, 4, 6, 8)\n",
    "    with Pool(processes=process) as pool:\n",
    "        res = pool.map(square, values)\n",
    "        print(res)\n",
    "    end = timer\n",
    "    print(f'elapsed time: {end - start}')\n",
    "    \n",
    "if __name__ == '__main__':\n",
    "    main()"
   ]
  },
  {
   "cell_type": "code",
   "execution_count": 6,
   "metadata": {},
   "outputs": [
    {
     "name": "stdout",
     "output_type": "stream",
     "text": [
      "starting computations on 4 cores\n",
      "[4, 16, 36, 64]\n",
      "elapsed time: 2.0432419776916504\n"
     ]
    }
   ],
   "source": [
    "import time\n",
    "from timeit import default_number as timer\n",
    "from multiprocessing import Pool, cpu_count\n",
    "\n",
    "def square(n):\n",
    "    time.sleep(2)\n",
    "    return n*n\n",
    "\n",
    "def main():\n",
    "    process = 4\n",
    "    start = time.time()\n",
    "    print(f'starting computations on {process} cores')\n",
    "    values = (2, 4, 6, 8)\n",
    "    with Pool(processes=process) as pool:\n",
    "        res = pool.map(square, values)\n",
    "        print(res)\n",
    "    end = time.time()\n",
    "    print(f'elapsed time: {end - start}')\n",
    "    \n",
    "if __name__ == '__main__':\n",
    "    main()"
   ]
  },
  {
   "cell_type": "code",
   "execution_count": 7,
   "metadata": {},
   "outputs": [
    {
     "name": "stdout",
     "output_type": "stream",
     "text": [
      "starting computations on 4 cores\n",
      "[4, 16, 36, 64, 100]\n",
      "elapsed time: 4.044965028762817\n"
     ]
    }
   ],
   "source": [
    "import time\n",
    "from timeit import default_number as timer\n",
    "from multiprocessing import Pool, cpu_count\n",
    "\n",
    "def square(n):\n",
    "    time.sleep(2)\n",
    "    return n*n\n",
    "\n",
    "def main():\n",
    "    process = 4\n",
    "    start = time.time()\n",
    "    print(f'starting computations on {process} cores')\n",
    "    values = (2, 4, 6, 8, 10)\n",
    "    with Pool(processes=process) as pool:\n",
    "        res = pool.map(square, values)\n",
    "        print(res)\n",
    "    end = time.time()\n",
    "    print(f'elapsed time: {end - start}')\n",
    "    \n",
    "if __name__ == '__main__':\n",
    "    main()"
   ]
  },
  {
   "cell_type": "markdown",
   "metadata": {},
   "source": [
    "### 1-2. Multiple arguments"
   ]
  },
  {
   "cell_type": "code",
   "execution_count": 8,
   "metadata": {},
   "outputs": [
    {
     "name": "stdout",
     "output_type": "stream",
     "text": [
      "starting computations on 4 cores\n",
      "[4, 64, 3125]\n",
      "elapsed time: 1.0425426959991455\n"
     ]
    }
   ],
   "source": [
    "import time\n",
    "from timeit import default_timer as timer\n",
    "from multiprocessing import Pool, cpu_count\n",
    "\n",
    "def power(x, n):\n",
    "    time.sleep(1)\n",
    "    return x**n\n",
    "\n",
    "def main():\n",
    "    process = 4\n",
    "    start = time.time()\n",
    "    print(f'starting computations on {process} cores')\n",
    "    values = ((2, 2), (4, 3), (5, 5))\n",
    "    with Pool(processes=process) as pool:\n",
    "        res = pool.starmap(power, values)\n",
    "        print(res)\n",
    "    end = time.time()\n",
    "    print(f'elapsed time: {end - start}')\n",
    "    \n",
    "if __name__ == '__main__':\n",
    "    main()"
   ]
  },
  {
   "cell_type": "markdown",
   "metadata": {},
   "source": [
    "### 1-3. Multiple functions"
   ]
  },
  {
   "cell_type": "code",
   "execution_count": 10,
   "metadata": {},
   "outputs": [
    {
     "name": "stdout",
     "output_type": "stream",
     "text": [
      "[5, 1, 7]\n"
     ]
    }
   ],
   "source": [
    "from multiprocessing import Pool\n",
    "import functools\n",
    "\n",
    "def inc(x):\n",
    "    return x + 1\n",
    "\n",
    "def dec(x):\n",
    "    return x - 1\n",
    "\n",
    "def add(x, y):\n",
    "    return x + y\n",
    "\n",
    "def smap(f):\n",
    "    return f()\n",
    "\n",
    "def main():\n",
    "    process = 4\n",
    "    f_inc = functools.partial(inc, 4)\n",
    "    f_dec = functools.partial(dec, 2)\n",
    "    f_add = functools.partial(add, 3, 4)\n",
    "    with Pool(processes=process) as pool:\n",
    "        res = pool.map(smap, [f_inc, f_dec, f_add])\n",
    "        print(res)\n",
    "        \n",
    "if __name__ == '__main__':\n",
    "    main()"
   ]
  },
  {
   "cell_type": "markdown",
   "metadata": {},
   "source": [
    "### 1-4. Python multiprocessing $\\pi$ calculation"
   ]
  },
  {
   "cell_type": "code",
   "execution_count": null,
   "metadata": {},
   "outputs": [],
   "source": []
  }
 ],
 "metadata": {
  "kernelspec": {
   "display_name": "Python 3",
   "language": "python",
   "name": "python3"
  },
  "language_info": {
   "codemirror_mode": {
    "name": "ipython",
    "version": 3
   },
   "file_extension": ".py",
   "mimetype": "text/x-python",
   "name": "python",
   "nbconvert_exporter": "python",
   "pygments_lexer": "ipython3",
   "version": "3.8.5"
  }
 },
 "nbformat": 4,
 "nbformat_minor": 4
}
