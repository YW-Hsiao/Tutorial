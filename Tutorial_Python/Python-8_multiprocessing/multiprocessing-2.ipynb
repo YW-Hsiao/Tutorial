{
 "cells": [
  {
   "cell_type": "markdown",
   "metadata": {},
   "source": [
    "# multiprocessing-2\n",
    "https://docs.python.org/3/library/multiprocessing.html"
   ]
  },
  {
   "cell_type": "markdown",
   "metadata": {},
   "source": [
    "## 1. 淺談 Multi-processing pool 使用方法\n",
    "https://www.maxlist.xyz/2020/03/20/multi-processing-pool/  \n",
    "https://stackoverflow.com/questions/8533318/multiprocessing-pool-when-to-use-apply-apply-async-or-map  \n",
    "https://www.maxlist.xyz/2020/03/15/python-threading/"
   ]
  },
  {
   "cell_type": "code",
   "execution_count": 1,
   "metadata": {},
   "outputs": [],
   "source": [
    "from multiprocessing import Pool, Process\n",
    "import os, time"
   ]
  },
  {
   "cell_type": "markdown",
   "metadata": {},
   "source": [
    "### 1-1."
   ]
  },
  {
   "cell_type": "code",
   "execution_count": 2,
   "metadata": {},
   "outputs": [
    {
     "name": "stdout",
     "output_type": "stream",
     "text": [
      "[0, 1, 4, 9, 16, 25, 36, 49, 64, 81]\n"
     ]
    }
   ],
   "source": [
    "def main_map(i):\n",
    "    result = i * i\n",
    "    return result\n",
    "\n",
    "if __name__ == '__main__':\n",
    "    inputs = [0, 1, 2, 3, 4, 5, 6, 7, 8, 9]\n",
    "    pool = Pool(4)\n",
    "    pool_outputs = pool.map(main_map, inputs)\n",
    "    print(pool_outputs)"
   ]
  },
  {
   "cell_type": "markdown",
   "metadata": {},
   "source": [
    "### 1-2."
   ]
  },
  {
   "cell_type": "code",
   "execution_count": 3,
   "metadata": {},
   "outputs": [],
   "source": [
    "import multiprocessing\n",
    "import os"
   ]
  },
  {
   "cell_type": "code",
   "execution_count": 4,
   "metadata": {},
   "outputs": [
    {
     "data": {
      "text/plain": [
       "80"
      ]
     },
     "execution_count": 4,
     "metadata": {},
     "output_type": "execute_result"
    }
   ],
   "source": [
    "multiprocessing.cpu_count()"
   ]
  },
  {
   "cell_type": "code",
   "execution_count": 5,
   "metadata": {},
   "outputs": [
    {
     "data": {
      "text/plain": [
       "80"
      ]
     },
     "execution_count": 5,
     "metadata": {},
     "output_type": "execute_result"
    }
   ],
   "source": [
    "os.cpu_count()"
   ]
  },
  {
   "cell_type": "markdown",
   "metadata": {},
   "source": [
    "### 1-3."
   ]
  },
  {
   "cell_type": "code",
   "execution_count": 6,
   "metadata": {},
   "outputs": [
    {
     "name": "stdout",
     "output_type": "stream",
     "text": [
      "['Process', '__class__', '__del__', '__delattr__', '__dict__', '__dir__', '__doc__', '__enter__', '__eq__', '__exit__', '__format__', '__ge__', '__getattribute__', '__gt__', '__hash__', '__init__', '__init_subclass__', '__le__', '__lt__', '__module__', '__ne__', '__new__', '__reduce__', '__reduce_ex__', '__repr__', '__setattr__', '__sizeof__', '__str__', '__subclasshook__', '__weakref__', '_cache', '_change_notifier', '_check_running', '_ctx', '_get_sentinels', '_get_tasks', '_get_worker_sentinels', '_guarded_task_generation', '_handle_results', '_handle_tasks', '_handle_workers', '_help_stuff_finish', '_initargs', '_initializer', '_inqueue', '_join_exited_workers', '_maintain_pool', '_map_async', '_maxtasksperchild', '_outqueue', '_pool', '_processes', '_quick_get', '_quick_put', '_repopulate_pool', '_repopulate_pool_static', '_result_handler', '_setup_queues', '_state', '_task_handler', '_taskqueue', '_terminate', '_terminate_pool', '_wait_for_updates', '_worker_handler', '_wrap_exception', 'apply', 'apply_async', 'close', 'imap', 'imap_unordered', 'join', 'map', 'map_async', 'starmap', 'starmap_async', 'terminate']\n"
     ]
    }
   ],
   "source": [
    "print(dir(pool))"
   ]
  },
  {
   "cell_type": "markdown",
   "metadata": {},
   "source": [
    "### 1-3-1. Pool().map()"
   ]
  },
  {
   "cell_type": "code",
   "execution_count": 7,
   "metadata": {},
   "outputs": [
    {
     "name": "stdout",
     "output_type": "stream",
     "text": [
      "0149\n",
      "\n",
      "\n",
      "\n",
      "將會阻塞並於 pool.map 子程序結束後觸發\n"
     ]
    }
   ],
   "source": [
    "def main_map_2(i):\n",
    "    result = i * i\n",
    "    print(result)\n",
    "    return result\n",
    "\n",
    "if __name__ == '__main__':\n",
    "    inputs = [0, 1, 2, 3]\n",
    "    pool = Pool(4)\n",
    "    pool_outputs_map = pool.map(main_map_2, inputs)\n",
    "    print(\"將會阻塞並於 pool.map 子程序結束後觸發\")"
   ]
  },
  {
   "cell_type": "code",
   "execution_count": 8,
   "metadata": {},
   "outputs": [
    {
     "name": "stdout",
     "output_type": "stream",
     "text": [
      "0419\n",
      "\n",
      "\n",
      "\n",
      "將會阻塞並於 pool.map 子程序結束後觸發\n",
      "[0, 1, 4, 9]\n"
     ]
    }
   ],
   "source": [
    "def main_map_2(i):\n",
    "    result = i * i\n",
    "    print(result)\n",
    "    return result\n",
    "\n",
    "if __name__ == '__main__':\n",
    "    inputs = [0, 1, 2, 3]\n",
    "    pool = Pool(4)\n",
    "    pool_outputs_map = pool.map(main_map_2, inputs)\n",
    "    print(\"將會阻塞並於 pool.map 子程序結束後觸發\")\n",
    "    print(pool_outputs_map)"
   ]
  },
  {
   "cell_type": "code",
   "execution_count": 9,
   "metadata": {},
   "outputs": [
    {
     "name": "stdout",
     "output_type": "stream",
     "text": [
      "0149\n",
      "\n",
      "\n",
      "\n",
      "16253649\n",
      "\n",
      "64\n",
      "\n",
      "81100\n",
      "\n",
      "\n",
      "將會阻塞並於 pool.map 子程序結束後觸發\n"
     ]
    }
   ],
   "source": [
    "def main_map_2(i):\n",
    "    result = i * i\n",
    "    print(result)\n",
    "    return result\n",
    "\n",
    "if __name__ == '__main__':\n",
    "    inputs = [0, 1, 2, 3, 4, 5, 6, 7, 8, 9, 10]\n",
    "    pool = Pool(4)\n",
    "    pool_outputs_map = pool.map(main_map_2, inputs)\n",
    "    print(\"將會阻塞並於 pool.map 子程序結束後觸發\")"
   ]
  },
  {
   "cell_type": "code",
   "execution_count": 10,
   "metadata": {},
   "outputs": [
    {
     "name": "stdout",
     "output_type": "stream",
     "text": [
      "0149\n",
      "\n",
      "\n",
      "\n",
      "16253649\n",
      "\n",
      "\n",
      "\n",
      "6481100\n",
      "\n",
      "\n",
      "將會阻塞並於 pool.map 子程序結束後觸發\n",
      "[0, 1, 4, 9, 16, 25, 36, 49, 64, 81, 100]\n"
     ]
    }
   ],
   "source": [
    "def main_map_2(i):\n",
    "    result = i * i\n",
    "    print(result)\n",
    "    return result\n",
    "\n",
    "if __name__ == '__main__':\n",
    "    inputs = [0, 1, 2, 3, 4, 5, 6, 7, 8, 9, 10]\n",
    "    pool = Pool(4)\n",
    "    pool_outputs_map = pool.map(main_map_2, inputs)\n",
    "    print(\"將會阻塞並於 pool.map 子程序結束後觸發\")\n",
    "    print(pool_outputs_map)"
   ]
  },
  {
   "cell_type": "markdown",
   "metadata": {},
   "source": [
    "#### Conclusion: The order of parallel is different, so we need to store in one variable, such as pool_outputs_map."
   ]
  },
  {
   "cell_type": "markdown",
   "metadata": {},
   "source": [
    "### 1-3-2. Pool().map_async()"
   ]
  },
  {
   "cell_type": "code",
   "execution_count": 11,
   "metadata": {},
   "outputs": [
    {
     "name": "stdout",
     "output_type": "stream",
     "text": [
      "0149\n",
      "\n",
      "\n",
      "\n",
      "將不會阻塞並和 pool.map_async 並行觸發\n"
     ]
    }
   ],
   "source": [
    "if __name__ == '__main__':\n",
    "    inputs = [0, 1, 2, 3]\n",
    "    pool = Pool(4)\n",
    "    pool_outputs_map_async = pool.map_async(main_map_2, inputs)\n",
    "    print(\"將不會阻塞並和 pool.map_async 並行觸發\")\n",
    "    \n",
    "    pool.close()\n",
    "    pool.join()"
   ]
  },
  {
   "cell_type": "code",
   "execution_count": 12,
   "metadata": {},
   "outputs": [
    {
     "name": "stdout",
     "output_type": "stream",
     "text": [
      "0419\n",
      "\n",
      "\n",
      "\n",
      "將不會阻塞並和 pool.map_async 並行觸發\n",
      "<multiprocessing.pool.MapResult object at 0x7f0a584535e0>\n",
      "<multiprocessing.pool.MapResult object at 0x7f0a584535e0>\n"
     ]
    }
   ],
   "source": [
    "if __name__ == '__main__':\n",
    "    inputs = [0, 1, 2, 3]\n",
    "    pool = Pool(4)\n",
    "    pool_outputs_map_async = pool.map_async(main_map_2, inputs)\n",
    "    print(\"將不會阻塞並和 pool.map_async 並行觸發\")\n",
    "    print(pool_outputs_map_async)\n",
    "    \n",
    "    pool.close()\n",
    "    pool.join()\n",
    "    print(pool_outputs_map_async)"
   ]
  },
  {
   "cell_type": "code",
   "execution_count": 13,
   "metadata": {},
   "outputs": [
    {
     "data": {
      "text/plain": [
       "[0, 1, 4, 9]"
      ]
     },
     "execution_count": 13,
     "metadata": {},
     "output_type": "execute_result"
    }
   ],
   "source": [
    "pool_outputs_map_async.get()"
   ]
  },
  {
   "cell_type": "code",
   "execution_count": 14,
   "metadata": {},
   "outputs": [
    {
     "name": "stdout",
     "output_type": "stream",
     "text": [
      "將不會阻塞並和 pool.map_async 並行觸發\n",
      "<multiprocessing.pool.MapResult object at 0x7f0a584485b0>\n",
      "0\n",
      "194\n",
      "\n",
      "\n"
     ]
    }
   ],
   "source": [
    "if __name__ == '__main__':\n",
    "    inputs = [0, 1, 2, 3]\n",
    "    pool = Pool(4)\n",
    "    pool_outputs_map_async = pool.map_async(main_map_2, inputs)\n",
    "    print(\"將不會阻塞並和 pool.map_async 並行觸發\")\n",
    "    print(pool_outputs_map_async)"
   ]
  },
  {
   "cell_type": "code",
   "execution_count": 15,
   "metadata": {},
   "outputs": [
    {
     "data": {
      "text/plain": [
       "<multiprocessing.pool.MapResult at 0x7f0a584485b0>"
      ]
     },
     "execution_count": 15,
     "metadata": {},
     "output_type": "execute_result"
    }
   ],
   "source": [
    "pool_outputs_map_async"
   ]
  },
  {
   "cell_type": "code",
   "execution_count": 16,
   "metadata": {},
   "outputs": [
    {
     "data": {
      "text/plain": [
       "[0, 1, 4, 9]"
      ]
     },
     "execution_count": 16,
     "metadata": {},
     "output_type": "execute_result"
    }
   ],
   "source": [
    "pool_outputs_map_async.get()"
   ]
  },
  {
   "cell_type": "code",
   "execution_count": 19,
   "metadata": {},
   "outputs": [
    {
     "name": "stdout",
     "output_type": "stream",
     "text": [
      "0194\n",
      "\n",
      "\n",
      "\n",
      "162536\n",
      "49\n",
      "\n",
      "\n",
      "8164100\n",
      "\n",
      "\n",
      "將不會阻塞並和 pool.map_async 並行觸發\n"
     ]
    }
   ],
   "source": [
    "if __name__ == '__main__':\n",
    "    inputs = [0, 1, 2, 3, 4, 5, 6, 7, 8, 9, 10]\n",
    "    pool = Pool(4)\n",
    "    pool_outputs_map_async = pool.map_async(main_map_2, inputs)\n",
    "    print(\"將不會阻塞並和 pool.map_async 並行觸發\")\n",
    "    \n",
    "    pool.close()\n",
    "    pool.join()"
   ]
  },
  {
   "cell_type": "markdown",
   "metadata": {},
   "source": [
    "#### Conclusion: The result is different with tutorial."
   ]
  },
  {
   "cell_type": "markdown",
   "metadata": {},
   "source": [
    "### 1-3-3. map() vs. starmap()"
   ]
  },
  {
   "cell_type": "code",
   "execution_count": 20,
   "metadata": {},
   "outputs": [
    {
     "name": "stdout",
     "output_type": "stream",
     "text": [
      "[0, 1, 4, 9, 16, 25, 36, 49, 64, 81]\n"
     ]
    }
   ],
   "source": [
    "def main_map(i):\n",
    "    result = i * i\n",
    "    return result\n",
    "\n",
    "if __name__ == '__main__':\n",
    "    inputs = [0, 1, 2, 3, 4, 5, 6, 7, 8, 9]\n",
    "    pool = Pool(4)\n",
    "    pool_outputs = pool.map(main_map, inputs)\n",
    "    print(pool_outputs)"
   ]
  },
  {
   "cell_type": "code",
   "execution_count": 21,
   "metadata": {},
   "outputs": [
    {
     "name": "stdout",
     "output_type": "stream",
     "text": [
      "[3, 8, 15, 24]\n"
     ]
    }
   ],
   "source": [
    "def main_starmap(i, j):\n",
    "    f = i * j\n",
    "    return f\n",
    "\n",
    "if __name__ == '__main__':\n",
    "    inputs = [(1, 3), (2, 4), (3, 5), (4, 6)]\n",
    "    pool = Pool(4)\n",
    "    pool_outputs_starmap = pool.starmap(main_starmap, inputs)\n",
    "    print(pool_outputs_starmap)"
   ]
  },
  {
   "cell_type": "markdown",
   "metadata": {},
   "source": [
    "#### Conclusion: The 'Pool.starmap' is what I wanted!!"
   ]
  },
  {
   "cell_type": "markdown",
   "metadata": {},
   "source": [
    "### 1-4. callback="
   ]
  },
  {
   "cell_type": "code",
   "execution_count": 22,
   "metadata": {},
   "outputs": [
    {
     "name": "stdout",
     "output_type": "stream",
     "text": [
      "主處理程序 ID: 123\n",
      "子處理程序 ID: 530, 運送結果: 9.子處理程序 ID: 532, 運送結果: 49.子處理程序 ID: 533, 運送結果: 81.子處理程序 ID: 531, 運送結果: 25.\n",
      "\n",
      "\n",
      "\n",
      "子處理程序 ID: 532, 運送結果: 121.子處理程序 ID: 530, 運送結果: 169.子處理程序 ID: 531, 運送結果: 225.\n",
      "\n",
      "\n",
      "callback: [9, 25, 49, 81, 121, 169, 225]; PID: 123\n"
     ]
    }
   ],
   "source": [
    "def main_map_3(i):\n",
    "    result = i * i\n",
    "    print(\"子處理程序 ID: {}, 運送結果: {}.\".format(os.getpid(), result))\n",
    "    return result\n",
    "\n",
    "def show(get_result):\n",
    "    print(\"callback: {}; PID: {}\".format(get_result, os.getpid()))\n",
    "    \n",
    "if __name__ == '__main__':\n",
    "    print(\"主處理程序 ID:\", os.getpid())\n",
    "    pool = Pool(4)\n",
    "    results = pool.map_async(main_map_3, [3, 5, 7, 9, 11, 13, 15], callback=show)\n",
    "    pool.close()\n",
    "    pool.join()"
   ]
  },
  {
   "cell_type": "code",
   "execution_count": 24,
   "metadata": {},
   "outputs": [
    {
     "name": "stdout",
     "output_type": "stream",
     "text": [
      "主處理程序 ID: 123\n",
      "子處理程序 ID: 603, 運送結果: 81.子處理程序 ID: 600, 運送結果: 9.子處理程序 ID: 602, 運送結果: 49.子處理程序 ID: 601, 運送結果: 25.\n",
      "\n",
      "\n",
      "\n",
      "子處理程序 ID: 603, 運送結果: 121.子處理程序 ID: 600, 運送結果: 169.子處理程序 ID: 602, 運送結果: 225.\n",
      "\n",
      "\n",
      "results = [9, 25, 49, 81, 121, 169, 225]; PID = 123\n"
     ]
    }
   ],
   "source": [
    "def main_map_3(i):\n",
    "    result = i * i\n",
    "    print(\"子處理程序 ID: {}, 運送結果: {}.\".format(os.getpid(), result))\n",
    "    return result\n",
    "    \n",
    "if __name__ == '__main__':\n",
    "    print(\"主處理程序 ID:\", os.getpid())\n",
    "    pool = Pool(4)\n",
    "    results = pool.map(main_map_3, [3, 5, 7, 9, 11, 13, 15])\n",
    "    print(\"results = {}; PID = {}\".format(results, os.getpid()))"
   ]
  },
  {
   "cell_type": "markdown",
   "metadata": {},
   "source": [
    "#### Conclusion-1: We can use 'top' in terminal to see PID number, and if we use this way the cpu will not be closed."
   ]
  },
  {
   "cell_type": "code",
   "execution_count": 25,
   "metadata": {},
   "outputs": [
    {
     "name": "stdout",
     "output_type": "stream",
     "text": [
      "主處理程序 ID: 123\n",
      "子處理程序 ID: 635, 運送結果: 9子處理程序 ID: 636, 運送結果: 25子處理程序 ID: 637, 運送結果: 49子處理程序 ID: 638, 運送結果: 81\n",
      "\n",
      "\n",
      "\n",
      "子處理程序 ID: 635, 運送結果: 121子處理程序 ID: 637, 運送結果: 225子處理程序 ID: 636, 運送結果: 169\n",
      "\n",
      "\n",
      "results = [9, 25, 49, 81, 121, 169, 225]; PID = 123\n"
     ]
    }
   ],
   "source": [
    "def main_map_3(i):\n",
    "    result = i * i\n",
    "    print(\"子處理程序 ID: {}, 運送結果: {}\".format(os.getpid(), result))\n",
    "    return result\n",
    "    \n",
    "if __name__ == '__main__':\n",
    "    print(\"主處理程序 ID:\", os.getpid())\n",
    "    pool = Pool(4)\n",
    "    results = pool.map(main_map_3, [3, 5, 7, 9, 11, 13, 15])\n",
    "    print(\"results = {}; PID = {}\".format(results, os.getpid()))\n",
    "    pool.close()\n",
    "    pool.join()"
   ]
  },
  {
   "cell_type": "markdown",
   "metadata": {},
   "source": [
    "#### Conclusion-2: If we use 'Pool().close()' & 'Pool().join()', the cpu will be closed."
   ]
  },
  {
   "cell_type": "markdown",
   "metadata": {},
   "source": [
    "### 1-5. Obtain the return data"
   ]
  },
  {
   "cell_type": "code",
   "execution_count": 26,
   "metadata": {},
   "outputs": [
    {
     "name": "stdout",
     "output_type": "stream",
     "text": [
      "0194\n",
      "\n",
      "\n",
      "\n",
      "將不會阻塞並和 pool.map_async 並行觸發\n",
      "<multiprocessing.pool.MapResult object at 0x7f0a5844e880>\n",
      "[0, 1, 4, 9]\n"
     ]
    }
   ],
   "source": [
    "def main_map_2(i):\n",
    "    result = i * i\n",
    "    print(result)\n",
    "    return result\n",
    "\n",
    "if __name__ == '__main__':\n",
    "    inputs = [0, 1, 2, 3]\n",
    "    pool = Pool(4)\n",
    "    pool_outputs_map_async = pool.map_async(main_map_2, inputs)\n",
    "    print(\"將不會阻塞並和 pool.map_async 並行觸發\")\n",
    "    print(pool_outputs_map_async)\n",
    "    \n",
    "    pool.close()\n",
    "    pool.join()\n",
    "    print(pool_outputs_map_async.get())"
   ]
  },
  {
   "cell_type": "code",
   "execution_count": 27,
   "metadata": {},
   "outputs": [
    {
     "name": "stdout",
     "output_type": "stream",
     "text": [
      "<multiprocessing.pool.MapResult object at 0x7f0a5840be50>\n",
      "[3, 8, 15, 24, 35]\n"
     ]
    }
   ],
   "source": [
    "def main_starmap(i, j):\n",
    "    f = i * j\n",
    "    return f\n",
    "\n",
    "if __name__ == '__main__':\n",
    "    inputs = [(1, 3), (2, 4), (3, 5), (4, 6), (5, 7)]\n",
    "    pool = Pool(4)\n",
    "    pool_outputs_starmap_async = pool.starmap_async(main_starmap, inputs)\n",
    "    print(pool_outputs_starmap_async)\n",
    "    \n",
    "    pool.close()\n",
    "    pool.join()\n",
    "    print(pool_outputs_starmap_async.get())"
   ]
  },
  {
   "cell_type": "markdown",
   "metadata": {},
   "source": [
    "#### Conclusion-1: Using 'Pool().map_async()' & 'Pool().starmap_async()', we need '.get()' to return data."
   ]
  },
  {
   "cell_type": "code",
   "execution_count": 28,
   "metadata": {},
   "outputs": [
    {
     "name": "stdout",
     "output_type": "stream",
     "text": [
      "[0, 1, 4, 9, 16, 25, 36, 49, 64, 81]\n"
     ]
    }
   ],
   "source": [
    "def main_map(i):\n",
    "    result = i * i\n",
    "    return result\n",
    "\n",
    "if __name__ == '__main__':\n",
    "    inputs = [0, 1, 2, 3, 4, 5, 6, 7, 8, 9]\n",
    "    pool = Pool(4)\n",
    "    pool_outputs = pool.map(main_map, inputs)\n",
    "    print(pool_outputs)"
   ]
  },
  {
   "cell_type": "code",
   "execution_count": 29,
   "metadata": {},
   "outputs": [
    {
     "name": "stdout",
     "output_type": "stream",
     "text": [
      "[6, 16, 30, 48, 70]\n"
     ]
    }
   ],
   "source": [
    "def main_starmap(i, j):\n",
    "    f = 2 * (i * j)\n",
    "    return f\n",
    "\n",
    "if __name__ == '__main__':\n",
    "    inputs = [(1, 3), (2, 4), (3, 5), (4, 6), (5, 7)]\n",
    "    pool = Pool(4)\n",
    "    pool_outputs = pool.starmap(main_starmap, inputs)\n",
    "    print(pool_outputs)"
   ]
  },
  {
   "cell_type": "markdown",
   "metadata": {},
   "source": [
    "#### Conclusion-2: Using 'Pool().map()' & 'Pool().starmap()', we can directly get the return data."
   ]
  },
  {
   "cell_type": "markdown",
   "metadata": {},
   "source": [
    "## 2. Additional"
   ]
  },
  {
   "cell_type": "markdown",
   "metadata": {},
   "source": [
    "### 2-1. maxtasksperchild="
   ]
  },
  {
   "cell_type": "code",
   "execution_count": null,
   "metadata": {},
   "outputs": [],
   "source": []
  },
  {
   "cell_type": "markdown",
   "metadata": {},
   "source": [
    "### 2-2. chunksize="
   ]
  },
  {
   "cell_type": "code",
   "execution_count": null,
   "metadata": {},
   "outputs": [],
   "source": []
  }
 ],
 "metadata": {
  "kernelspec": {
   "display_name": "Python 3",
   "language": "python",
   "name": "python3"
  },
  "language_info": {
   "codemirror_mode": {
    "name": "ipython",
    "version": 3
   },
   "file_extension": ".py",
   "mimetype": "text/x-python",
   "name": "python",
   "nbconvert_exporter": "python",
   "pygments_lexer": "ipython3",
   "version": "3.8.5"
  }
 },
 "nbformat": 4,
 "nbformat_minor": 4
}
