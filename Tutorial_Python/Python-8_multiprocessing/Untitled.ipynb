{
 "cells": [
  {
   "cell_type": "code",
   "execution_count": null,
   "metadata": {},
   "outputs": [],
   "source": []
  },
  {
   "cell_type": "code",
   "execution_count": 1,
   "metadata": {},
   "outputs": [
    {
     "data": {
      "text/plain": [
       "[0, 1, 4, 9, 16, 25, 36]"
      ]
     },
     "execution_count": 1,
     "metadata": {},
     "output_type": "execute_result"
    }
   ],
   "source": [
    "import multiprocessing as mp\n",
    "\n",
    "def f(x):\n",
    "    return x * x\n",
    "\n",
    "with mp.Pool(4) as pool:\n",
    "    inputs = [0, 1, 2, 3, 4, 5, 6]\n",
    "    results = pool.map(f, inputs)\n",
    "    \n",
    "results"
   ]
  },
  {
   "cell_type": "code",
   "execution_count": 2,
   "metadata": {},
   "outputs": [],
   "source": [
    "def f(x):\n",
    "    return x * x, 2 * x"
   ]
  },
  {
   "cell_type": "code",
   "execution_count": 4,
   "metadata": {},
   "outputs": [
    {
     "data": {
      "text/plain": [
       "(9, 6)"
      ]
     },
     "execution_count": 4,
     "metadata": {},
     "output_type": "execute_result"
    }
   ],
   "source": [
    "f(3)"
   ]
  },
  {
   "cell_type": "code",
   "execution_count": 5,
   "metadata": {},
   "outputs": [
    {
     "data": {
      "text/plain": [
       "[(0, 0), (1, 2), (4, 4), (9, 6), (16, 8), (25, 10), (36, 12)]"
      ]
     },
     "execution_count": 5,
     "metadata": {},
     "output_type": "execute_result"
    }
   ],
   "source": [
    "import multiprocessing as mp\n",
    "\n",
    "def f(x):\n",
    "    return x * x, 2 * x\n",
    "\n",
    "with mp.Pool(4) as pool:\n",
    "    inputs = [0, 1, 2, 3, 4, 5, 6]\n",
    "    results = pool.map(f, inputs)\n",
    "    \n",
    "results"
   ]
  },
  {
   "cell_type": "code",
   "execution_count": 12,
   "metadata": {},
   "outputs": [
    {
     "data": {
      "text/plain": [
       "(36, 12)"
      ]
     },
     "execution_count": 12,
     "metadata": {},
     "output_type": "execute_result"
    }
   ],
   "source": [
    "results[6]"
   ]
  },
  {
   "cell_type": "code",
   "execution_count": 14,
   "metadata": {},
   "outputs": [
    {
     "data": {
      "text/plain": [
       "[(0, 0), (1, 2), (4, 4), (9, 6), (16, 8), (25, 10), (2, 3)]"
      ]
     },
     "execution_count": 14,
     "metadata": {},
     "output_type": "execute_result"
    }
   ],
   "source": [
    "results[6]=(2,3)\n",
    "results"
   ]
  },
  {
   "cell_type": "code",
   "execution_count": null,
   "metadata": {},
   "outputs": [],
   "source": []
  },
  {
   "cell_type": "code",
   "execution_count": null,
   "metadata": {},
   "outputs": [],
   "source": []
  },
  {
   "cell_type": "code",
   "execution_count": 7,
   "metadata": {},
   "outputs": [],
   "source": [
    "a = [1,2,3]\n",
    "b = (1,2,3)"
   ]
  },
  {
   "cell_type": "code",
   "execution_count": 8,
   "metadata": {},
   "outputs": [
    {
     "data": {
      "text/plain": [
       "[1, 2, 3]"
      ]
     },
     "execution_count": 8,
     "metadata": {},
     "output_type": "execute_result"
    }
   ],
   "source": [
    "a"
   ]
  },
  {
   "cell_type": "code",
   "execution_count": 9,
   "metadata": {},
   "outputs": [
    {
     "data": {
      "text/plain": [
       "(1, 2, 3)"
      ]
     },
     "execution_count": 9,
     "metadata": {},
     "output_type": "execute_result"
    }
   ],
   "source": [
    "b"
   ]
  },
  {
   "cell_type": "code",
   "execution_count": 10,
   "metadata": {},
   "outputs": [
    {
     "data": {
      "text/plain": [
       "[9, 2, 3]"
      ]
     },
     "execution_count": 10,
     "metadata": {},
     "output_type": "execute_result"
    }
   ],
   "source": [
    "a[0]=9\n",
    "a"
   ]
  },
  {
   "cell_type": "code",
   "execution_count": 11,
   "metadata": {},
   "outputs": [
    {
     "ename": "TypeError",
     "evalue": "'tuple' object does not support item assignment",
     "output_type": "error",
     "traceback": [
      "\u001b[0;31m---------------------------------------------------------------------------\u001b[0m",
      "\u001b[0;31mTypeError\u001b[0m                                 Traceback (most recent call last)",
      "\u001b[0;32m<ipython-input-11-19fd5b4f8c6c>\u001b[0m in \u001b[0;36m<module>\u001b[0;34m\u001b[0m\n\u001b[0;32m----> 1\u001b[0;31m \u001b[0mb\u001b[0m\u001b[0;34m[\u001b[0m\u001b[0;36m0\u001b[0m\u001b[0;34m]\u001b[0m\u001b[0;34m=\u001b[0m\u001b[0;36m9\u001b[0m\u001b[0;34m\u001b[0m\u001b[0;34m\u001b[0m\u001b[0m\n\u001b[0m\u001b[1;32m      2\u001b[0m \u001b[0mb\u001b[0m\u001b[0;34m\u001b[0m\u001b[0;34m\u001b[0m\u001b[0m\n",
      "\u001b[0;31mTypeError\u001b[0m: 'tuple' object does not support item assignment"
     ]
    }
   ],
   "source": [
    "b[0]=9\n",
    "b"
   ]
  },
  {
   "cell_type": "code",
   "execution_count": null,
   "metadata": {},
   "outputs": [],
   "source": []
  },
  {
   "cell_type": "code",
   "execution_count": 1,
   "metadata": {},
   "outputs": [
    {
     "name": "stdout",
     "output_type": "stream",
     "text": [
      "user01user02user03user04    vipcode01vipcode02vipcode03vipcode04    0001000200030004\n",
      "\n",
      "\n",
      "\n",
      "user06user07user05user08    vipcode05vipcode06vipcode07vipcode08    0005000600070008\n",
      "user09\n",
      "\n",
      "\n",
      "user10user11user12    vipcode09vipcode10vipcode11vipcode12    0009001000110012\n",
      "\n",
      "\n",
      "\n",
      "user13user15user14user16    vipcode13vipcode15vipcode14vipcode16    0013001500160014\n",
      "\n",
      "\n",
      "\n",
      "user17user18user19user20    vipcode18vipcode19vipcode17vipcode20    0018001900170020\n",
      "\n",
      "user21\n",
      "\n",
      "user22user23user24    vipcode21vipcode22vipcode23vipcode24   0022 00230021\n",
      "0024\n",
      "\n",
      "user25\n",
      "user26user27 user28  vipcode25vipcode26  vipcode27vipcode28 0025 0026\n",
      " 0027user29\n",
      "0028\n",
      " user30\n",
      "user31vipcode29 user32  vipcode30 0029vipcode31 vipcode32\n",
      " 0030user33 0031 \n",
      "\n",
      "0032vipcode33user34\n",
      "user35  0033user36 \n",
      "vipcode34 vipcode35user37vipcode36    00350034vipcode370036 \n",
      "\n",
      "\n",
      "0037user39user38user40\n",
      "   user41vipcode39vipcode38 vipcode40  vipcode41 00390038 00400041\n",
      "\n",
      "\n",
      "\n",
      "user42user43user44user45    vipcode44vipcode43vipcode42vipcode45    0044004500430042\n",
      "\n",
      "\n",
      "\n",
      "user46user48user47user49    vipcode46 vipcode48vipcode49vipcode470046   \n",
      "004800490047user50\n",
      "\n",
      " \n",
      "user51user52vipcode50user53    vipcode510050vipcode52vipcode53 \n",
      "  0051user540052\n",
      "0053 user55\n",
      "\n",
      "vipcode54 user56 user57vipcode550054   \n",
      "vipcode56vipcode570055user58  \n",
      " 00560057user59vipcode58\n",
      "\n",
      "  user60user61vipcode590058   \n",
      "vipcode610059vipcode60user62 \n",
      "  0061user63vipcode620060 \n",
      " \n",
      "vipcode630062user64user65  \n",
      " 0063vipcode65vipcode64user66\n",
      "   user6700650064 vipcode66\n",
      "\n",
      "vipcode67user68   user690066vipcode680067\n",
      "  \n",
      "vipcode69user700068user71 \n",
      "  0069user72vipcode70vipcode71\n",
      "   user73vipcode7200700071  \n",
      "vipcode73\n",
      "0072user74 user75\n",
      " 0073vipcode74 user76\n",
      "  vipcode75user770074vipcode76  \n",
      " 0075vipcode77user780076 \n",
      " 0077\n",
      "vipcode78user79\n",
      "user80  user810078 vipcode79 \n",
      "vipcode80 vipcode81user82 0079  00800081\n",
      "vipcode82\n",
      "\n",
      "user83 user84user850082   \n",
      "vipcode83vipcode85vipcode84user86    008300850084vipcode86\n",
      "\n",
      "\n",
      " user87user89user880086   \n",
      "vipcode87vipcode89vipcode88  user900087 0089 \n",
      "0088vipcode90\n",
      "user91\n",
      "  user92user930090vipcode91   \n",
      "vipcode93vipcode920091user94 \n",
      "  user9500930092vipcode94 \n",
      " \n",
      "vipcode95 user960094user970095 \n",
      " \n",
      "vipcode96user98user99vipcode97    vipcode980096vipcode99 0097\n",
      " 0098\n",
      "0099\n",
      "\n"
     ]
    }
   ],
   "source": [
    "from multiprocessing import Pool\n",
    "\n",
    "\n",
    "def send_mail(username, coupon_code, extra_sentence):\n",
    "    print(username, coupon_code, extra_sentence or '')\n",
    "\n",
    "\n",
    "with Pool(4) as pool:\n",
    "    for idx in range(1, 100):\n",
    "        pool.apply_async(\n",
    "            send_mail,\n",
    "            (f'user{idx:0>2}', f'vipcode{idx:0>2}'),\n",
    "            {'extra_sentence': f'{idx:0>4}'}\n",
    "        )\n",
    "    pool.close()\n",
    "    pool.join()\n",
    "    \n",
    "    \n",
    "from multiprocessing import Pool\n",
    "\n",
    "def send_mail(username, coupon_code, extra_sentence):\n",
    "    print(username, coupon_code, extra_sentence or '')\n",
    "    \n",
    "with Pool(4) as pool:\n",
    "    for idx in range(1, 100):\n",
    "        pool.apply_async(send_mail, (f'user{idx:0>2}', f'vipcode{idx:0>2}'),\n",
    "                         {'extra_sentence': f'{idx:0>4}'})\n",
    "        pool.close()\n",
    "        pool.join()"
   ]
  },
  {
   "cell_type": "code",
   "execution_count": null,
   "metadata": {},
   "outputs": [],
   "source": []
  },
  {
   "cell_type": "code",
   "execution_count": 1,
   "metadata": {},
   "outputs": [
    {
     "ename": "SyntaxError",
     "evalue": "Missing parentheses in call to 'print'. Did you mean print(name,'starting')? (<ipython-input-1-250f12ae034c>, line 6)",
     "output_type": "error",
     "traceback": [
      "\u001b[0;36m  File \u001b[0;32m\"<ipython-input-1-250f12ae034c>\"\u001b[0;36m, line \u001b[0;32m6\u001b[0m\n\u001b[0;31m    print name,'starting'\u001b[0m\n\u001b[0m          ^\u001b[0m\n\u001b[0;31mSyntaxError\u001b[0m\u001b[0;31m:\u001b[0m Missing parentheses in call to 'print'. Did you mean print(name,'starting')?\n"
     ]
    }
   ],
   "source": [
    "import multiprocessing  \n",
    "  \n",
    "def do(n) :  \n",
    "  # Obtain the name of current process  \n",
    "  name = multiprocessing.current_process().name  \n",
    "  print name,'starting'  \n",
    "  print \"worker \", n  \n",
    "  return  \n",
    "  \n",
    "if __name__ == '__main__' :  \n",
    "  numList = []  \n",
    "  for i in xrange(5) :  \n",
    "    p = multiprocessing.Process(target=do, args=(i,))  \n",
    "    numList.append(p)  \n",
    "    p.start()  \n",
    "    p.join()  \n",
    "    print \"Process end.\"  "
   ]
  },
  {
   "cell_type": "code",
   "execution_count": 1,
   "metadata": {},
   "outputs": [
    {
     "name": "stdout",
     "output_type": "stream",
     "text": [
      "Process-1 starting\n",
      "worker 0\n",
      "Process end.\n",
      "Process-2 starting\n",
      "worker 1\n",
      "Process end.\n",
      "Process-3 starting\n",
      "worker 2\n",
      "Process end.\n",
      "Process-4 starting\n",
      "worker 3\n",
      "Process end.\n",
      "Process-5 starting\n",
      "worker 4\n",
      "Process end.\n"
     ]
    }
   ],
   "source": [
    "import multiprocessing\n",
    "\n",
    "def do(n):\n",
    "    name = multiprocessing.current_process().name\n",
    "    print(name, \"starting\")\n",
    "    print(\"worker\", n)\n",
    "    return\n",
    "\n",
    "if __name__ == '__main__':\n",
    "    numList = []\n",
    "    for i in range(5):\n",
    "        p = multiprocessing.Process(target=do, args=(i,))\n",
    "        numList.append(p)\n",
    "        p.start()\n",
    "        p.join()\n",
    "        print(\"Process end.\")"
   ]
  },
  {
   "cell_type": "code",
   "execution_count": 2,
   "metadata": {},
   "outputs": [
    {
     "data": {
      "text/plain": [
       "[<Process name='Process-1' pid=909 parent=896 stopped exitcode=0>,\n",
       " <Process name='Process-2' pid=926 parent=896 stopped exitcode=0>,\n",
       " <Process name='Process-3' pid=943 parent=896 stopped exitcode=0>,\n",
       " <Process name='Process-4' pid=960 parent=896 stopped exitcode=0>,\n",
       " <Process name='Process-5' pid=977 parent=896 stopped exitcode=0>]"
      ]
     },
     "execution_count": 2,
     "metadata": {},
     "output_type": "execute_result"
    }
   ],
   "source": [
    "numList"
   ]
  },
  {
   "cell_type": "code",
   "execution_count": null,
   "metadata": {},
   "outputs": [],
   "source": []
  },
  {
   "cell_type": "code",
   "execution_count": null,
   "metadata": {},
   "outputs": [],
   "source": []
  },
  {
   "cell_type": "code",
   "execution_count": null,
   "metadata": {},
   "outputs": [],
   "source": []
  },
  {
   "cell_type": "code",
   "execution_count": 8,
   "metadata": {},
   "outputs": [],
   "source": [
    "import time\n",
    "import multiprocessing as mp\n",
    "import datetime\n",
    "\n",
    "def run(x):\n",
    "    time.sleep(1)\n",
    "    return x*x"
   ]
  },
  {
   "cell_type": "code",
   "execution_count": 9,
   "metadata": {},
   "outputs": [
    {
     "name": "stdout",
     "output_type": "stream",
     "text": [
      "05/30/2021 Sun, 16:58:17 CST\n",
      "36\n",
      "Time = 0:00:01.001516\n"
     ]
    }
   ],
   "source": [
    "print(time.strftime('%m/%d/%Y %a, %H:%M:%S %Z', time.localtime()))\n",
    "start = datetime.datetime.now()\n",
    "\n",
    "print(run(6))\n",
    "\n",
    "end = datetime.datetime.now()\n",
    "print('Time =', end - start)"
   ]
  },
  {
   "cell_type": "code",
   "execution_count": 17,
   "metadata": {},
   "outputs": [
    {
     "name": "stdout",
     "output_type": "stream",
     "text": [
      "05/30/2021 Sun, 17:02:11 CST\n",
      "Singal process\n",
      "1\n",
      "4\n",
      "9\n",
      "16\n",
      "25\n",
      "36\n",
      "Time = 0:00:06.007999\n"
     ]
    }
   ],
   "source": [
    "print(time.strftime('%m/%d/%Y %a, %H:%M:%S %Z', time.localtime()))\n",
    "start = datetime.datetime.now()\n",
    "\n",
    "print(\"Singal process\")\n",
    "if __name__ == '__main__':\n",
    "    list_x = [1, 2, 3, 4, 5, 6]\n",
    "    for x in list_x:\n",
    "        print(run(x))\n",
    "\n",
    "end = datetime.datetime.now()\n",
    "print('Time =', end - start)"
   ]
  },
  {
   "cell_type": "code",
   "execution_count": 19,
   "metadata": {},
   "outputs": [
    {
     "name": "stdout",
     "output_type": "stream",
     "text": [
      "Singal process\n",
      "1\n",
      "4\n",
      "9\n",
      "16\n",
      "25\n",
      "36\n",
      "Time =  6 6.0076375007629395\n"
     ]
    }
   ],
   "source": [
    "if __name__ == '__main__':\n",
    "    list_x = [1, 2, 3, 4, 5, 6]\n",
    "    print(\"Singal process\")\n",
    "    s = time.time()\n",
    "    for x in list_x:\n",
    "        print(run(x))\n",
    "        \n",
    "    e1 = time.time()\n",
    "    print(\"Time = \", int(e1-s), e1-s)"
   ]
  },
  {
   "cell_type": "code",
   "execution_count": 22,
   "metadata": {},
   "outputs": [
    {
     "name": "stdout",
     "output_type": "stream",
     "text": [
      "Singal process\n",
      "1\n",
      "4\n",
      "9\n",
      "16\n",
      "25\n",
      "36\n",
      "Time =  6 6.007612466812134\n",
      "concurrent\n",
      "Time =  2 2.0626299381256104\n",
      "[1, 4, 9, 16, 25, 36]\n"
     ]
    }
   ],
   "source": [
    "if __name__ == '__main__':\n",
    "    list_x = [1, 2, 3, 4, 5, 6]\n",
    "    print(\"Singal process\")\n",
    "    s = time.time()\n",
    "    for x in list_x:\n",
    "        print(run(x))\n",
    "        \n",
    "    e1 = time.time()\n",
    "    print(\"Time = \", int(e1-s), e1-s)\n",
    "    \n",
    "    print(\"concurrent\")\n",
    "    pool = mp.Pool(5)\n",
    "    r1 = pool.map(run, list_x)\n",
    "    pool.close()\n",
    "    pool.join()\n",
    "    e2 = time.time()\n",
    "    print(\"Time = \", int(e2-e1), e2-e1)\n",
    "    print(r1)"
   ]
  },
  {
   "cell_type": "code",
   "execution_count": 21,
   "metadata": {},
   "outputs": [
    {
     "name": "stdout",
     "output_type": "stream",
     "text": [
      "Singal process\n",
      "1\n",
      "4\n",
      "9\n",
      "16\n",
      "25\n",
      "36\n",
      "Time =  6 6.0075647830963135\n",
      "concurrent\n",
      "Time =  2 2.045396566390991\n",
      "[1, 4, 9, 16, 25, 36]\n"
     ]
    }
   ],
   "source": [
    "if __name__ == '__main__':\n",
    "    list_x = [1, 2, 3, 4, 5, 6]\n",
    "    print(\"Singal process\")\n",
    "    s = time.time()\n",
    "    for x in list_x:\n",
    "        print(run(x))\n",
    "        \n",
    "    e1 = time.time()\n",
    "    print(\"Time = \", int(e1-s), e1-s)\n",
    "    \n",
    "    print(\"concurrent\")\n",
    "    pool = mp.Pool(5)\n",
    "    r1 = pool.map(run, list_x)\n",
    "#     pool.close()\n",
    "#     pool.join()\n",
    "    e2 = time.time()\n",
    "    print(\"Time = \", int(e2-e1), e2-e1)\n",
    "    print(r1)"
   ]
  },
  {
   "cell_type": "code",
   "execution_count": 25,
   "metadata": {},
   "outputs": [
    {
     "name": "stdout",
     "output_type": "stream",
     "text": [
      "132\n",
      "\n",
      "\n",
      "45\n",
      "\n",
      "Time =  -2.127276659011841\n"
     ]
    }
   ],
   "source": [
    "def run2(x):\n",
    "    time.sleep(2)\n",
    "    print(x)\n",
    "    \n",
    "if __name__ == '__main__':\n",
    "    startTime = time.time()\n",
    "    list_x = [1, 2, 3, 4, 5]\n",
    "    pool = mp.Pool(10)\n",
    "    pool.map(run2, list_x)\n",
    "    pool.close()\n",
    "    pool.join()\n",
    "    endTime = time.time()\n",
    "    print(\"Time = \", startTime-endTime)"
   ]
  },
  {
   "cell_type": "code",
   "execution_count": 26,
   "metadata": {},
   "outputs": [
    {
     "name": "stdout",
     "output_type": "stream",
     "text": [
      "13254\n",
      "\n",
      "\n",
      "\n",
      "\n",
      "Time =  -2.0907328128814697\n"
     ]
    }
   ],
   "source": [
    "def run2(x):\n",
    "    time.sleep(2)\n",
    "    print(x)\n",
    "    \n",
    "if __name__ == '__main__':\n",
    "    startTime = time.time()\n",
    "    list_x = [1, 2, 3, 4, 5]\n",
    "    pool = mp.Pool(10)\n",
    "    pool.map(run2, list_x)\n",
    "    pool.close()\n",
    "    pool.join()\n",
    "    endTime = time.time()\n",
    "    print(\"Time = \", startTime-endTime)"
   ]
  },
  {
   "cell_type": "code",
   "execution_count": 27,
   "metadata": {},
   "outputs": [
    {
     "name": "stdout",
     "output_type": "stream",
     "text": [
      "13245\n",
      "\n",
      "\n",
      "\n",
      "\n",
      "Time =  -2.0898542404174805\n",
      "[None, None, None, None, None]\n"
     ]
    }
   ],
   "source": [
    "def run2(x):\n",
    "    time.sleep(2)\n",
    "    print(x)\n",
    "    \n",
    "if __name__ == '__main__':\n",
    "    startTime = time.time()\n",
    "    list_x = [1, 2, 3, 4, 5]\n",
    "    pool = mp.Pool(10)\n",
    "    r2 = pool.map(run2, list_x)\n",
    "    pool.close()\n",
    "    pool.join()\n",
    "    endTime = time.time()\n",
    "    print(\"Time = \", startTime-endTime)\n",
    "    print(r2)"
   ]
  },
  {
   "cell_type": "code",
   "execution_count": 28,
   "metadata": {},
   "outputs": [
    {
     "name": "stdout",
     "output_type": "stream",
     "text": [
      "123\n",
      "\n",
      "\n",
      "45\n",
      "\n",
      "Time =  -4.056440353393555\n",
      "[None, None, None, None, None]\n"
     ]
    }
   ],
   "source": [
    "def run2(x):\n",
    "    time.sleep(2)\n",
    "    print(x)\n",
    "    \n",
    "if __name__ == '__main__':\n",
    "    startTime = time.time()\n",
    "    list_x = [1, 2, 3, 4, 5]\n",
    "    pool = mp.Pool(3)\n",
    "    r2 = pool.map(run2, list_x)\n",
    "    pool.close()\n",
    "    pool.join()\n",
    "    endTime = time.time()\n",
    "    print(\"Time = \", startTime-endTime)\n",
    "    print(r2)"
   ]
  },
  {
   "cell_type": "code",
   "execution_count": 29,
   "metadata": {},
   "outputs": [
    {
     "name": "stdout",
     "output_type": "stream",
     "text": [
      "1324\n",
      "\n",
      "\n",
      "\n",
      "5\n",
      "Time =  -4.0600504875183105\n",
      "[None, None, None, None, None]\n"
     ]
    }
   ],
   "source": [
    "def run2(x):\n",
    "    time.sleep(2)\n",
    "    print(x)\n",
    "    \n",
    "if __name__ == '__main__':\n",
    "    startTime = time.time()\n",
    "    list_x = [1, 2, 3, 4, 5]\n",
    "    pool = mp.Pool(4)\n",
    "    r2 = pool.map(run2, list_x)\n",
    "    pool.close()\n",
    "    pool.join()\n",
    "    endTime = time.time()\n",
    "    print(\"Time = \", startTime-endTime)\n",
    "    print(r2)"
   ]
  },
  {
   "cell_type": "code",
   "execution_count": 30,
   "metadata": {},
   "outputs": [
    {
     "name": "stdout",
     "output_type": "stream",
     "text": [
      "Time =  -4.044556379318237\n",
      "[1, 2, 3, 4, 5]\n"
     ]
    }
   ],
   "source": [
    "def run2(x):\n",
    "    time.sleep(2)\n",
    "    return x\n",
    "    \n",
    "if __name__ == '__main__':\n",
    "    startTime = time.time()\n",
    "    list_x = [1, 2, 3, 4, 5]\n",
    "    pool = mp.Pool(4)\n",
    "    r2 = pool.map(run2, list_x)\n",
    "    pool.close()\n",
    "    pool.join()\n",
    "    endTime = time.time()\n",
    "    print(\"Time = \", startTime-endTime)\n",
    "    print(r2)"
   ]
  },
  {
   "cell_type": "code",
   "execution_count": 33,
   "metadata": {},
   "outputs": [
    {
     "name": "stdout",
     "output_type": "stream",
     "text": [
      "Time =  -6.034675598144531\n",
      "[1, 2, 3, 4, 5]\n"
     ]
    }
   ],
   "source": [
    "def run2(x):\n",
    "    time.sleep(2)\n",
    "    return x\n",
    "    \n",
    "if __name__ == '__main__':\n",
    "    startTime = time.time()\n",
    "    list_x = [1, 2, 3, 4, 5]\n",
    "    pool = mp.Pool(2)\n",
    "    r2 = pool.map(run2, list_x)\n",
    "    pool.close()\n",
    "    pool.join()\n",
    "    endTime = time.time()\n",
    "    print(\"Time = \", startTime-endTime)\n",
    "    print(r2)"
   ]
  },
  {
   "cell_type": "code",
   "execution_count": null,
   "metadata": {},
   "outputs": [],
   "source": []
  },
  {
   "cell_type": "code",
   "execution_count": 13,
   "metadata": {},
   "outputs": [
    {
     "name": "stdout",
     "output_type": "stream",
     "text": [
      "0419\n",
      "\n",
      "\n",
      "\n",
      "將不會阻塞並和 pool.map_async 並行觸發\n"
     ]
    }
   ],
   "source": [
    "from multiprocessing import Process, Pool\n",
    "import os, time\n",
    "\n",
    "\n",
    "def main_map(i):\n",
    "    result = i * i\n",
    "    print(result)\n",
    "    return result\n",
    "\n",
    "\n",
    "if __name__ == '__main__':\n",
    "\n",
    "    inputs = [0, 1, 2, 3]\n",
    "    pool = Pool(4)\n",
    "\n",
    "    pool_outputs = pool.map_async(main_map, inputs)\n",
    "    print('將不會阻塞並和 pool.map_async 並行觸發')\n",
    "\n",
    "    # close 和 join 是確保主程序結束後，子程序仍然繼續進行\n",
    "    pool.close()\n",
    "    pool.join()"
   ]
  },
  {
   "cell_type": "code",
   "execution_count": 8,
   "metadata": {},
   "outputs": [
    {
     "data": {
      "text/plain": [
       "2"
      ]
     },
     "execution_count": 8,
     "metadata": {},
     "output_type": "execute_result"
    }
   ],
   "source": [
    "1+1"
   ]
  },
  {
   "cell_type": "code",
   "execution_count": null,
   "metadata": {},
   "outputs": [],
   "source": [
    "print(time.strftime('%m/%d/%Y %a, %H:%M:%S %Z', time.localtime()))\n",
    "start = datetime.datetime.now()\n",
    "\n",
    "m_xdxdbar, dfMxdxdbar = myafv2.findMxdxdbar(GP_03_5v2)\n",
    "\n",
    "end = datetime.datetime.now()\n",
    "print('Time =', end - start)"
   ]
  }
 ],
 "metadata": {
  "kernelspec": {
   "display_name": "Python 3",
   "language": "python",
   "name": "python3"
  },
  "language_info": {
   "codemirror_mode": {
    "name": "ipython",
    "version": 3
   },
   "file_extension": ".py",
   "mimetype": "text/x-python",
   "name": "python",
   "nbconvert_exporter": "python",
   "pygments_lexer": "ipython3",
   "version": "3.8.5"
  }
 },
 "nbformat": 4,
 "nbformat_minor": 4
}
