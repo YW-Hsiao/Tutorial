{
 "cells": [
  {
   "cell_type": "markdown",
   "metadata": {},
   "source": [
    "# multiprocessing-7\n",
    "https://docs.python.org/3/library/multiprocessing.html"
   ]
  },
  {
   "cell_type": "markdown",
   "metadata": {},
   "source": [
    "## 1. Communication Between Processes\n",
    "https://pymotw.com/2/multiprocessing/communication.html"
   ]
  },
  {
   "cell_type": "markdown",
   "metadata": {},
   "source": [
    "### 1-1. Process Pools"
   ]
  },
  {
   "cell_type": "code",
   "execution_count": 1,
   "metadata": {},
   "outputs": [
    {
     "name": "stdout",
     "output_type": "stream",
     "text": [
      "Input: [0, 1, 2, 3, 4, 5, 6, 7, 8, 9]\n",
      "Built-in: <map object at 0x7fb6567bf8b0>\n",
      "Starting StartingForkPoolWorker-1 \n",
      "StartingForkPoolWorker-2\n",
      " StartingForkPoolWorker-3\n",
      " ForkPoolWorker-4\n",
      "Pool: [0, 2, 4, 6, 8, 10, 12, 14, 16, 18]\n"
     ]
    }
   ],
   "source": [
    "import multiprocessing\n",
    "\n",
    "def do_calculation(data):\n",
    "    return data * 2\n",
    "\n",
    "def start_process():\n",
    "    print(\"Starting\", multiprocessing.current_process().name)\n",
    "    \n",
    "if __name__ == '__main__':\n",
    "    inputs = list(range(10))\n",
    "    print(\"Input:\", inputs)\n",
    "    \n",
    "    builtin_outputs = map(do_calculation, inputs)\n",
    "    print(\"Built-in:\", builtin_outputs)\n",
    "    \n",
    "    pool_size = 4\n",
    "    pool = multiprocessing.Pool(processes=pool_size, initializer=start_process)\n",
    "    pool_outputs = pool.map(do_calculation, inputs)\n",
    "    pool.close()\n",
    "    pool.join()\n",
    "    \n",
    "    print(\"Pool:\", pool_outputs)"
   ]
  },
  {
   "cell_type": "code",
   "execution_count": 2,
   "metadata": {},
   "outputs": [
    {
     "data": {
      "text/plain": [
       "1404"
      ]
     },
     "execution_count": 2,
     "metadata": {},
     "output_type": "execute_result"
    }
   ],
   "source": [
    "import os\n",
    "\n",
    "os.getpid()"
   ]
  },
  {
   "cell_type": "code",
   "execution_count": 3,
   "metadata": {},
   "outputs": [
    {
     "data": {
      "text/plain": [
       "'MainProcess'"
      ]
     },
     "execution_count": 3,
     "metadata": {},
     "output_type": "execute_result"
    }
   ],
   "source": [
    "multiprocessing.current_process().name"
   ]
  },
  {
   "cell_type": "code",
   "execution_count": 4,
   "metadata": {},
   "outputs": [
    {
     "name": "stdout",
     "output_type": "stream",
     "text": [
      "Input: [0, 1, 2, 3, 4, 5, 6, 7, 8, 9]\n",
      "Built-in: [0, 2, 4, 6, 8, 10, 12, 14, 16, 18]\n",
      "Starting: ForkPoolWorker-5.\n",
      "Starting: ForkPoolWorker-6.\n",
      "Starting: ForkPoolWorker-7.\n",
      "Starting: ForkPoolWorker-8.\n",
      "Pool: [0, 2, 4, 6, 8, 10, 12, 14, 16, 18]\n"
     ]
    }
   ],
   "source": [
    "import multiprocessing\n",
    "\n",
    "def do_calculation(data):\n",
    "    return data * 2\n",
    "\n",
    "def start_process():\n",
    "    print(\"Starting: {}.\".format(multiprocessing.current_process().name))\n",
    "    \n",
    "if __name__ == '__main__':\n",
    "    inputs = list(range(10))\n",
    "    print(\"Input:\", inputs)\n",
    "    \n",
    "    builtin_outputs = map(do_calculation, inputs)\n",
    "    print(\"Built-in:\", list(builtin_outputs))\n",
    "    \n",
    "    pool_size = 4\n",
    "    pool = multiprocessing.Pool(processes=pool_size, initializer=start_process)\n",
    "    pool_outputs = pool.map(do_calculation, inputs)\n",
    "    pool.close()\n",
    "    pool.join()\n",
    "    \n",
    "    print(\"Pool:\", pool_outputs)"
   ]
  },
  {
   "cell_type": "markdown",
   "metadata": {},
   "source": [
    "### maxtasksperchild"
   ]
  },
  {
   "cell_type": "code",
   "execution_count": 5,
   "metadata": {},
   "outputs": [
    {
     "name": "stdout",
     "output_type": "stream",
     "text": [
      "Input: [0, 1, 2, 3, 4, 5, 6, 7, 8, 9]\n",
      "Built-in: [0, 2, 4, 6, 8, 10, 12, 14, 16, 18]\n",
      "Starting: ForkPoolWorker-9.\n",
      "Starting: ForkPoolWorker-10.Starting: ForkPoolWorker-11.\n",
      "\n",
      "Starting: ForkPoolWorker-12.\n",
      "Starting: ForkPoolWorker-13.\n",
      "Starting: ForkPoolWorker-14.\n",
      "Starting: ForkPoolWorker-15.\n",
      "Starting: ForkPoolWorker-16.\n",
      "Pool: [0, 2, 4, 6, 8, 10, 12, 14, 16, 18]\n"
     ]
    }
   ],
   "source": [
    "import multiprocessing\n",
    "\n",
    "def do_calculation(data):\n",
    "    return data * 2\n",
    "\n",
    "def start_process():\n",
    "    print(\"Starting: {}.\".format(multiprocessing.current_process().name))\n",
    "    \n",
    "if __name__ == '__main__':\n",
    "    inputs = list(range(10))\n",
    "    print(\"Input:\", inputs)\n",
    "    \n",
    "    builtin_outputs = map(do_calculation, inputs)\n",
    "    print(\"Built-in:\", list(builtin_outputs))\n",
    "    \n",
    "    pool_size = 4\n",
    "    pool = multiprocessing.Pool(processes=pool_size,\n",
    "                                initializer=start_process,\n",
    "                                maxtasksperchild=2)\n",
    "    pool_outputs = pool.map(do_calculation, inputs)\n",
    "    pool.close()\n",
    "    pool.join()\n",
    "    \n",
    "    print(\"Pool:\", pool_outputs)"
   ]
  },
  {
   "cell_type": "code",
   "execution_count": null,
   "metadata": {},
   "outputs": [],
   "source": []
  }
 ],
 "metadata": {
  "kernelspec": {
   "display_name": "Python 3",
   "language": "python",
   "name": "python3"
  },
  "language_info": {
   "codemirror_mode": {
    "name": "ipython",
    "version": 3
   },
   "file_extension": ".py",
   "mimetype": "text/x-python",
   "name": "python",
   "nbconvert_exporter": "python",
   "pygments_lexer": "ipython3",
   "version": "3.8.5"
  }
 },
 "nbformat": 4,
 "nbformat_minor": 4
}
