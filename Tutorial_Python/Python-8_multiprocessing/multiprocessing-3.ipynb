{
 "cells": [
  {
   "cell_type": "markdown",
   "metadata": {},
   "source": [
    "# multiprocessing-3\n",
    "https://docs.python.org/3/library/multiprocessing.html"
   ]
  },
  {
   "cell_type": "markdown",
   "metadata": {},
   "source": [
    "## 1. multiprocessing 模塊介紹\n",
    "http://puremonkey2010.blogspot.com/2018/01/python-multiprocessing.html"
   ]
  },
  {
   "cell_type": "markdown",
   "metadata": {},
   "source": [
    "### 1-1. Process: test.py"
   ]
  },
  {
   "cell_type": "code",
   "execution_count": 1,
   "metadata": {},
   "outputs": [
    {
     "name": "stdout",
     "output_type": "stream",
     "text": [
      "Process-1 starting\n",
      "worker 0\n",
      "Process end.\n",
      "--------------------\n",
      "Process-2 starting\n",
      "worker 1\n",
      "Process end.\n",
      "--------------------\n",
      "Process-3 starting\n",
      "worker 2\n",
      "Process end.\n",
      "--------------------\n",
      "Process-4 starting\n",
      "worker 3\n",
      "Process end.\n",
      "--------------------\n",
      "Process-5 starting\n",
      "worker 4\n",
      "Process end.\n",
      "--------------------\n"
     ]
    }
   ],
   "source": [
    "import multiprocessing\n",
    "\n",
    "def do(n):\n",
    "    name = multiprocessing.current_process().name\n",
    "    print(name, \"starting\")\n",
    "    print(\"worker\", n)\n",
    "    return\n",
    "\n",
    "if __name__ == '__main__':\n",
    "    numList = []\n",
    "    for i in range(5):\n",
    "        p = multiprocessing.Process(target=do, args=(i,))\n",
    "        numList.append(p)\n",
    "        p.start()\n",
    "        p.join()\n",
    "        print(\"Process end.\")\n",
    "        print('-'*20)"
   ]
  },
  {
   "cell_type": "code",
   "execution_count": 2,
   "metadata": {},
   "outputs": [
    {
     "data": {
      "text/plain": [
       "[<Process name='Process-1' pid=923 parent=910 stopped exitcode=0>,\n",
       " <Process name='Process-2' pid=940 parent=910 stopped exitcode=0>,\n",
       " <Process name='Process-3' pid=957 parent=910 stopped exitcode=0>,\n",
       " <Process name='Process-4' pid=974 parent=910 stopped exitcode=0>,\n",
       " <Process name='Process-5' pid=991 parent=910 stopped exitcode=0>]"
      ]
     },
     "execution_count": 2,
     "metadata": {},
     "output_type": "execute_result"
    }
   ],
   "source": [
    "numList"
   ]
  },
  {
   "cell_type": "code",
   "execution_count": 3,
   "metadata": {},
   "outputs": [
    {
     "name": "stdout",
     "output_type": "stream",
     "text": [
      "主處理程序 ID: 910\n",
      "results = <Process name='Process-6' parent=910 initial>; PID = 910\n",
      "Process-6 starting\n",
      "worker 0\n",
      "Process end.\n",
      "-------------------------------------------------------------------\n",
      "results = <Process name='Process-7' parent=910 initial>; PID = 910\n",
      "Process-7 starting\n",
      "worker 1\n",
      "Process end.\n",
      "-------------------------------------------------------------------\n",
      "results = <Process name='Process-8' parent=910 initial>; PID = 910\n",
      "Process-8 starting\n",
      "worker 2\n",
      "Process end.\n",
      "-------------------------------------------------------------------\n",
      "results = <Process name='Process-9' parent=910 initial>; PID = 910\n",
      "Process-9 starting\n",
      "worker 3\n",
      "Process end.\n",
      "-------------------------------------------------------------------\n",
      "results = <Process name='Process-10' parent=910 initial>; PID = 910\n",
      "Process-10 starting\n",
      "worker 4\n",
      "Process end.\n",
      "-------------------------------------------------------------------\n"
     ]
    }
   ],
   "source": [
    "import multiprocessing\n",
    "import os\n",
    "\n",
    "def do(n):\n",
    "    name = multiprocessing.current_process().name\n",
    "    print(name, \"starting\")\n",
    "    print(\"worker\", n)\n",
    "    return\n",
    "\n",
    "if __name__ == '__main__':\n",
    "    numList = []\n",
    "    print(\"主處理程序 ID:\", os.getpid())\n",
    "    for i in range(5):\n",
    "        p = multiprocessing.Process(target=do, args=(i,))\n",
    "        numList.append(p)\n",
    "        print(\"results = {}; PID = {}\".format(p, os.getpid()))\n",
    "        p.start()\n",
    "        p.join()\n",
    "        print(\"Process end.\")\n",
    "        print('-'*67)"
   ]
  },
  {
   "cell_type": "markdown",
   "metadata": {},
   "source": [
    "### 1-2. Pool: test2.py"
   ]
  },
  {
   "cell_type": "code",
   "execution_count": 4,
   "metadata": {},
   "outputs": [
    {
     "name": "stdout",
     "output_type": "stream",
     "text": [
      "shunxu:\n",
      "1\n",
      "4\n",
      "9\n",
      "16\n",
      "25\n",
      "36\n",
      "Execution time in single process: 6\n",
      "concurrent:\n",
      "Execution time in concurrent: 2\n",
      "[1, 4, 9, 16, 25, 36]\n"
     ]
    }
   ],
   "source": [
    "import time\n",
    "from multiprocessing import Pool\n",
    "\n",
    "def run(fn):\n",
    "    time.sleep(1)\n",
    "    return fn * fn\n",
    "\n",
    "if __name__ == '__main__':\n",
    "    testFL = [1, 2, 3, 4, 5, 6]\n",
    "    print(\"shunxu:\")\n",
    "    s = time.time()\n",
    "    for fn in testFL:\n",
    "        print(run(fn))\n",
    "        \n",
    "    e1 = time.time()\n",
    "    print(\"Execution time in single process:\", int(e1 - s))\n",
    "    \n",
    "    print(\"concurrent:\")\n",
    "    pool = Pool(5)\n",
    "    r1 = pool.map(run, testFL)\n",
    "    pool.close()\n",
    "    pool.join()\n",
    "    e2 = time.time()\n",
    "    print(\"Execution time in concurrent:\", int(e2 - e1))\n",
    "    print(r1)"
   ]
  },
  {
   "cell_type": "markdown",
   "metadata": {},
   "source": [
    "### 1-2. Pool: test3.py"
   ]
  },
  {
   "cell_type": "code",
   "execution_count": 5,
   "metadata": {},
   "outputs": [
    {
     "name": "stdout",
     "output_type": "stream",
     "text": [
      "Time: 2.06642746925354\n"
     ]
    }
   ],
   "source": [
    "import time\n",
    "from multiprocessing import Pool\n",
    "\n",
    "def run(fn):\n",
    "    time.sleep(2)\n",
    "    return fn\n",
    "\n",
    "if __name__ == '__main__':\n",
    "    startTime = time.time()\n",
    "    testFL = [1, 2, 3, 4, 5]\n",
    "    pool = Pool(10)\n",
    "    pool.map(run, testFL)\n",
    "    pool.close()\n",
    "    pool.join()\n",
    "    endTime = time.time()\n",
    "    print(\"Time:\", endTime - startTime)"
   ]
  },
  {
   "cell_type": "code",
   "execution_count": 6,
   "metadata": {},
   "outputs": [
    {
     "name": "stdout",
     "output_type": "stream",
     "text": [
      "123\n",
      "\n",
      "\n",
      "4\n",
      "5\n",
      "Time: 2.136934995651245\n"
     ]
    }
   ],
   "source": [
    "import time\n",
    "from multiprocessing import Pool\n",
    "\n",
    "def run(fn):\n",
    "    time.sleep(2)\n",
    "    print(fn)\n",
    "    return fn\n",
    "\n",
    "if __name__ == '__main__':\n",
    "    startTime = time.time()\n",
    "    testFL = [1, 2, 3, 4, 5]\n",
    "    pool = Pool(10)\n",
    "    pool.map(run, testFL)\n",
    "    pool.close()\n",
    "    pool.join()\n",
    "    endTime = time.time()\n",
    "    print(\"Time:\", endTime - startTime)"
   ]
  },
  {
   "cell_type": "code",
   "execution_count": 7,
   "metadata": {},
   "outputs": [
    {
     "name": "stdout",
     "output_type": "stream",
     "text": [
      "12345\n",
      "\n",
      "\n",
      "\n",
      "\n",
      "Time: 2.0779035091400146\n",
      "[1, 2, 3, 4, 5]\n"
     ]
    }
   ],
   "source": [
    "import time\n",
    "from multiprocessing import Pool\n",
    "\n",
    "def run(fn):\n",
    "    time.sleep(2)\n",
    "    print(fn)\n",
    "    return fn\n",
    "\n",
    "if __name__ == '__main__':\n",
    "    startTime = time.time()\n",
    "    testFL = [1, 2, 3, 4, 5]\n",
    "    pool = Pool(10)\n",
    "    results = pool.map(run, testFL)\n",
    "    pool.close()\n",
    "    pool.join()\n",
    "    endTime = time.time()\n",
    "    print(\"Time:\", endTime - startTime)\n",
    "    print(results)"
   ]
  },
  {
   "cell_type": "code",
   "execution_count": 9,
   "metadata": {},
   "outputs": [
    {
     "name": "stdout",
     "output_type": "stream",
     "text": [
      "2468\n",
      "\n",
      "\n",
      "\n",
      "10121416\n",
      "\n",
      "\n",
      "\n",
      "1820\n",
      "\n",
      "Time: 6.059992551803589\n",
      "[2, 4, 6, 8, 10, 12, 14, 16, 18, 20]\n"
     ]
    }
   ],
   "source": [
    "import time\n",
    "from multiprocessing import Pool\n",
    "\n",
    "def run(fn):\n",
    "    time.sleep(2)\n",
    "    f = 2 * fn\n",
    "    print(f)\n",
    "    return f\n",
    "\n",
    "if __name__ == '__main__':\n",
    "    startTime = time.time()\n",
    "    testFL = [1, 2, 3, 4, 5, 6, 7, 8, 9, 10]\n",
    "    pool = Pool(4)\n",
    "    results = pool.map(run, testFL)\n",
    "    pool.close()\n",
    "    pool.join()\n",
    "    endTime = time.time()\n",
    "    print(\"Time:\", endTime - startTime)\n",
    "    print(results)"
   ]
  },
  {
   "cell_type": "markdown",
   "metadata": {},
   "source": [
    "### 1-3. Pool: test4.py"
   ]
  },
  {
   "cell_type": "code",
   "execution_count": null,
   "metadata": {},
   "outputs": [],
   "source": []
  }
 ],
 "metadata": {
  "kernelspec": {
   "display_name": "Python 3",
   "language": "python",
   "name": "python3"
  },
  "language_info": {
   "codemirror_mode": {
    "name": "ipython",
    "version": 3
   },
   "file_extension": ".py",
   "mimetype": "text/x-python",
   "name": "python",
   "nbconvert_exporter": "python",
   "pygments_lexer": "ipython3",
   "version": "3.8.5"
  }
 },
 "nbformat": 4,
 "nbformat_minor": 4
}
