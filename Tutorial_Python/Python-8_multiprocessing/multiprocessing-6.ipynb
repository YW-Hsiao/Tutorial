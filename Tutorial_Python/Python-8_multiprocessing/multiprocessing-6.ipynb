{
 "cells": [
  {
   "cell_type": "markdown",
   "metadata": {},
   "source": [
    "# multiprocessing-6\n",
    "https://docs.python.org/3/library/multiprocessing.html"
   ]
  },
  {
   "cell_type": "markdown",
   "metadata": {},
   "source": [
    "## 1. multiprocessing 基本教學\n",
    "https://zwindr.blogspot.com/2017/04/python-multiprocessing.html"
   ]
  },
  {
   "cell_type": "markdown",
   "metadata": {},
   "source": [
    "### 1-1."
   ]
  },
  {
   "cell_type": "code",
   "execution_count": 1,
   "metadata": {},
   "outputs": [
    {
     "name": "stdout",
     "output_type": "stream",
     "text": [
      "pid:1521 stdout:139709871301872, __name__:__main__, importedBy:IPython.core.interactiveshell\n"
     ]
    }
   ],
   "source": [
    "from multiprocessing import Pool\n",
    "import sys\n",
    "import os\n",
    "\n",
    "def f(x):\n",
    "    return x\n",
    "\n",
    "if __name__ == '__main__':\n",
    "    pool = Pool(4)\n",
    "    pool.map(f, range(10))\n",
    "    \n",
    "try:\n",
    "    print(\"pid:{} stdout:{}, __name__:{}, importedBy:{}\".format(os.getpid(), id(sys.stdout), __name__, sys._getframe(1).f_globals.get('__name__')))\n",
    "except ValueError:\n",
    "    print(\"pid:{} stdout:{}, __name__:{}\".format(os.getpid(), id(sys.stdout), __name__))"
   ]
  },
  {
   "cell_type": "code",
   "execution_count": 2,
   "metadata": {},
   "outputs": [
    {
     "name": "stdout",
     "output_type": "stream",
     "text": [
      "[0, 1, 2, 3, 4, 5, 6, 7, 8, 9]\n"
     ]
    }
   ],
   "source": [
    "from multiprocessing import Pool\n",
    "import sys\n",
    "import os\n",
    "\n",
    "def f(x):\n",
    "    return x\n",
    "\n",
    "if __name__ == '__main__':\n",
    "    pool = Pool(4)\n",
    "    print(pool.map(f, range(10)))"
   ]
  },
  {
   "cell_type": "markdown",
   "metadata": {},
   "source": [
    "### 1-2. 建立 Process"
   ]
  },
  {
   "cell_type": "code",
   "execution_count": null,
   "metadata": {},
   "outputs": [],
   "source": []
  },
  {
   "cell_type": "markdown",
   "metadata": {},
   "source": [
    "### 1-2-1. Pool"
   ]
  },
  {
   "cell_type": "code",
   "execution_count": 3,
   "metadata": {},
   "outputs": [
    {
     "name": "stdout",
     "output_type": "stream",
     "text": [
      "Parent process 1521.\n",
      "任務 0 (1548) 開始.任務 1 (1549) 開始.任務 2 (1550) 開始.\n",
      "\n",
      "\n",
      "等待所有 child processes 完成\n",
      "任務 0 執行 3.0031211376190186 seconds.任務 1 執行 3.0031063556671143 seconds.任務 2 執行 3.003100633621216 seconds.\n",
      "\n",
      "\n",
      "任務 3 (1548) 開始.任務 4 (1549) 開始.\n",
      "\n",
      "任務 3 執行 3.0031049251556396 seconds.任務 4 執行 3.0031230449676514 seconds.\n",
      "\n",
      "所有 child processes 完成\n"
     ]
    }
   ],
   "source": [
    "import os\n",
    "import time\n",
    "import traceback\n",
    "from multiprocessing import Pool\n",
    "\n",
    "def handle_error(e):\n",
    "    traceback.print_exception(type(e), e, e.__traceback__)\n",
    "    \n",
    "def long_time_task(name):\n",
    "    print(\"任務 {} ({}) 開始.\".format(name, os.getpid()))\n",
    "    start = time.time()\n",
    "    time.sleep(3)\n",
    "    end = time.time()\n",
    "    print(\"任務 {} 執行 {} seconds.\".format(name, (end - start)))\n",
    "    \n",
    "if __name__ == '__main__':\n",
    "    print(\"Parent process {}.\".format(os.getpid()))\n",
    "    with Pool(processes=3) as p:\n",
    "        for i in range(5):\n",
    "            p.apply_async(long_time_task, args=(i,), error_callback=handle_error)\n",
    "        print(\"等待所有 child processes 完成\")\n",
    "        p.close()\n",
    "        p.join()\n",
    "    print(\"所有 child processes 完成\")"
   ]
  },
  {
   "cell_type": "markdown",
   "metadata": {},
   "source": [
    "### 1-3. 回傳資料"
   ]
  },
  {
   "cell_type": "code",
   "execution_count": null,
   "metadata": {},
   "outputs": [],
   "source": []
  },
  {
   "cell_type": "markdown",
   "metadata": {},
   "source": [
    "### 1-4. 資料交換"
   ]
  },
  {
   "cell_type": "code",
   "execution_count": null,
   "metadata": {},
   "outputs": [],
   "source": []
  },
  {
   "cell_type": "markdown",
   "metadata": {},
   "source": [
    "### 1-5. 資料分享"
   ]
  },
  {
   "cell_type": "code",
   "execution_count": null,
   "metadata": {},
   "outputs": [],
   "source": []
  },
  {
   "cell_type": "markdown",
   "metadata": {},
   "source": [
    "## 2. class of multiprocessing"
   ]
  },
  {
   "cell_type": "markdown",
   "metadata": {},
   "source": [
    "### 2-1. class multiprocessing.Process"
   ]
  },
  {
   "cell_type": "code",
   "execution_count": null,
   "metadata": {},
   "outputs": [],
   "source": []
  },
  {
   "cell_type": "markdown",
   "metadata": {},
   "source": [
    "### 2-2. class multiprocessing.Queue([maxsize])"
   ]
  },
  {
   "cell_type": "code",
   "execution_count": null,
   "metadata": {},
   "outputs": [],
   "source": []
  },
  {
   "cell_type": "markdown",
   "metadata": {},
   "source": [
    "### 2-3. multiprocessing.Pipe([duplex=True])"
   ]
  },
  {
   "cell_type": "code",
   "execution_count": null,
   "metadata": {},
   "outputs": [],
   "source": []
  },
  {
   "cell_type": "markdown",
   "metadata": {},
   "source": [
    "### 2-4. class multiprocessing.pool.Pool"
   ]
  },
  {
   "cell_type": "code",
   "execution_count": 4,
   "metadata": {},
   "outputs": [
    {
     "name": "stdout",
     "output_type": "stream",
     "text": [
      "PID: 1594\n",
      "PID: 1594\n",
      "PID: 1606\n",
      "PID: 1606\n",
      "PID: 1615\n"
     ]
    }
   ],
   "source": [
    "from multiprocessing import Pool\n",
    "import os\n",
    "\n",
    "def f():\n",
    "    print(\"PID: {}\".format(os.getpid()))\n",
    "    \n",
    "if __name__ == '__main__':\n",
    "    pool = Pool(1, maxtasksperchild=2)\n",
    "    for _ in range(5):\n",
    "        pool.apply_async(f)\n",
    "    pool.close()\n",
    "    pool.join()"
   ]
  },
  {
   "cell_type": "code",
   "execution_count": 5,
   "metadata": {},
   "outputs": [
    {
     "name": "stdout",
     "output_type": "stream",
     "text": [
      "010\n",
      "\n",
      "111\n",
      "\n",
      "212\n",
      "\n",
      "313\n",
      "\n",
      "414\n",
      "\n",
      "155\n",
      "\n",
      "166\n",
      "\n",
      "717\n",
      "\n",
      "818\n",
      "\n",
      "919\n",
      "\n"
     ]
    }
   ],
   "source": [
    "from multiprocessing import Pool\n",
    "import time\n",
    "\n",
    "def f(x):\n",
    "    time.sleep(1)\n",
    "    print(x)\n",
    "    \n",
    "if __name__ == '__main__':\n",
    "    pool = Pool(4)\n",
    "    pool.map(f, range(20), chunksize=10)"
   ]
  },
  {
   "cell_type": "code",
   "execution_count": 6,
   "metadata": {},
   "outputs": [
    {
     "name": "stdout",
     "output_type": "stream",
     "text": [
      "0123    20212322\n",
      "\n",
      "\n",
      "\n",
      "4567    24252627\n",
      "\n",
      "\n",
      "\n",
      "891011    28293031\n",
      "\n",
      "\n",
      "\n",
      "131214 15  32 3334\n",
      "\n",
      "35\n",
      "1617\n",
      "18  19 363738 \n",
      "\n",
      "\n",
      "39\n"
     ]
    }
   ],
   "source": [
    "from multiprocessing import Pool\n",
    "import time\n",
    "\n",
    "def f(x, y):\n",
    "    print(x, y)\n",
    "    \n",
    "if __name__ == '__main__':\n",
    "    pool = Pool(4)\n",
    "    pool.starmap(f, zip(range(20), range(20, 40)), chunksize=1)"
   ]
  },
  {
   "cell_type": "code",
   "execution_count": 11,
   "metadata": {},
   "outputs": [
    {
     "name": "stdout",
     "output_type": "stream",
     "text": [
      "<zip object at 0x7f109c99c340>\n",
      "[(0, 20), (1, 21), (2, 22), (3, 23), (4, 24), (5, 25), (6, 26), (7, 27), (8, 28), (9, 29), (10, 30), (11, 31), (12, 32), (13, 33), (14, 34), (15, 35), (16, 36), (17, 37), (18, 38), (19, 39)]\n"
     ]
    }
   ],
   "source": [
    "zipped = zip(range(20), range(20, 40))\n",
    "print(zipped)\n",
    "print(list(zipped))"
   ]
  },
  {
   "cell_type": "code",
   "execution_count": 18,
   "metadata": {},
   "outputs": [
    {
     "name": "stdout",
     "output_type": "stream",
     "text": [
      "<zip object at 0x7f109d0fe680>\n",
      "[(1, 4), (2, 5), (3, 6)]\n"
     ]
    }
   ],
   "source": [
    "a = [1, 2, 3]\n",
    "b = [4, 5, 6]\n",
    "c = [4, 5, 6, 7, 8]\n",
    "zipped = zip(a, b)\n",
    "print(zipped)\n",
    "print(list(zipped))"
   ]
  },
  {
   "cell_type": "code",
   "execution_count": 19,
   "metadata": {},
   "outputs": [
    {
     "data": {
      "text/plain": [
       "[]"
      ]
     },
     "execution_count": 19,
     "metadata": {},
     "output_type": "execute_result"
    }
   ],
   "source": [
    "list(zip(*zipped))"
   ]
  },
  {
   "cell_type": "code",
   "execution_count": 20,
   "metadata": {},
   "outputs": [
    {
     "data": {
      "text/plain": [
       "[(1, 4), (2, 5), (3, 6)]"
      ]
     },
     "execution_count": 20,
     "metadata": {},
     "output_type": "execute_result"
    }
   ],
   "source": [
    "list(zip(a, c))"
   ]
  },
  {
   "cell_type": "markdown",
   "metadata": {},
   "source": [
    "### 2-5. Logging"
   ]
  },
  {
   "cell_type": "code",
   "execution_count": null,
   "metadata": {},
   "outputs": [],
   "source": []
  }
 ],
 "metadata": {
  "kernelspec": {
   "display_name": "Python 3",
   "language": "python",
   "name": "python3"
  },
  "language_info": {
   "codemirror_mode": {
    "name": "ipython",
    "version": 3
   },
   "file_extension": ".py",
   "mimetype": "text/x-python",
   "name": "python",
   "nbconvert_exporter": "python",
   "pygments_lexer": "ipython3",
   "version": "3.8.5"
  }
 },
 "nbformat": 4,
 "nbformat_minor": 4
}
