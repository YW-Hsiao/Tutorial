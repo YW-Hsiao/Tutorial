{
 "cells": [
  {
   "cell_type": "markdown",
   "metadata": {},
   "source": [
    "# with"
   ]
  },
  {
   "cell_type": "markdown",
   "metadata": {},
   "source": [
    "## 1. https://blog.gtwang.org/programming/python-with-context-manager-tutorial/"
   ]
  },
  {
   "cell_type": "code",
   "execution_count": null,
   "metadata": {},
   "outputs": [],
   "source": [
    "f = open(filename)\n",
    "# ...\n",
    "f.close()"
   ]
  },
  {
   "cell_type": "code",
   "execution_count": null,
   "metadata": {},
   "outputs": [],
   "source": [
    "f = open(filename)\n",
    "try:\n",
    "    # ...\n",
    "finally:\n",
    "    \n",
    "    f.close()"
   ]
  },
  {
   "cell_type": "code",
   "execution_count": null,
   "metadata": {},
   "outputs": [],
   "source": [
    "with open(filename) as f:\n",
    "    # ..."
   ]
  },
  {
   "cell_type": "code",
   "execution_count": 1,
   "metadata": {},
   "outputs": [],
   "source": [
    "with open('file.txt', 'w') as f:\n",
    "    f.write('Hello, world!')"
   ]
  },
  {
   "cell_type": "markdown",
   "metadata": {},
   "source": [
    "#### Note: Old method"
   ]
  },
  {
   "cell_type": "code",
   "execution_count": 2,
   "metadata": {},
   "outputs": [],
   "source": [
    "f = open('file_old.txt', 'w')\n",
    "f.write('Hello world!')\n",
    "f.close()"
   ]
  },
  {
   "cell_type": "code",
   "execution_count": 7,
   "metadata": {},
   "outputs": [],
   "source": [
    "#/usr/bin/python\n",
    "# -*- coding: utf-8 -*-\n",
    "# 自行定義 Context Manager\n",
    "class File(object):\n",
    "    def __init__(self, filename, mode):\n",
    "        # 設定檔名與開啟模式\n",
    "        self.filename = filename\n",
    "        self.mode = mode\n",
    "        \n",
    "    # 配給資源（開啟檔案）\n",
    "    def __enter__(self):\n",
    "        print(\"開啟檔案：\" + self.filename)\n",
    "        self.open_file = open(self.filename, self.mode)\n",
    "        return self.open_file\n",
    "    \n",
    "    # 回收資源（關閉檔案）\n",
    "    def __exit__(self, type, value, traceback):\n",
    "        print(\"關閉檔案：\" + self.filename)\n",
    "        self.open_file.close()"
   ]
  },
  {
   "cell_type": "code",
   "execution_count": 9,
   "metadata": {},
   "outputs": [
    {
     "name": "stdout",
     "output_type": "stream",
     "text": [
      "開啟檔案：file_2.txt\n",
      "寫入檔案...\n",
      "寫完檔案...\n",
      "關閉檔案：file_2.txt\n"
     ]
    }
   ],
   "source": [
    "with File(\"file_2.txt\", \"w\") as f:\n",
    "    print(\"寫入檔案...\")\n",
    "    f.write(\"Hello, world.\")\n",
    "    f.write(\"Hige Energy Particle, Elementary Particle\")\n",
    "    print(\"寫完檔案...\")"
   ]
  },
  {
   "cell_type": "code",
   "execution_count": null,
   "metadata": {},
   "outputs": [],
   "source": []
  },
  {
   "cell_type": "code",
   "execution_count": null,
   "metadata": {},
   "outputs": [],
   "source": []
  },
  {
   "cell_type": "markdown",
   "metadata": {},
   "source": [
    "## 2. https://icodding.blogspot.com/2016/05/python-with-as.html"
   ]
  },
  {
   "cell_type": "code",
   "execution_count": null,
   "metadata": {},
   "outputs": [],
   "source": []
  },
  {
   "cell_type": "code",
   "execution_count": null,
   "metadata": {},
   "outputs": [],
   "source": []
  },
  {
   "cell_type": "markdown",
   "metadata": {},
   "source": [
    "## 3. https://justcode.ikeepstudying.com/2019/05/python%E4%B8%ADwith%E7%94%A8%E6%B3%95%E5%8F%8A%E5%8E%9F%E7%90%86-python%E4%B8%ADwith-as-%E7%94%A8%E6%B3%95/"
   ]
  },
  {
   "cell_type": "code",
   "execution_count": null,
   "metadata": {},
   "outputs": [],
   "source": []
  },
  {
   "cell_type": "code",
   "execution_count": null,
   "metadata": {},
   "outputs": [],
   "source": []
  }
 ],
 "metadata": {
  "kernelspec": {
   "display_name": "Python 3",
   "language": "python",
   "name": "python3"
  },
  "language_info": {
   "codemirror_mode": {
    "name": "ipython",
    "version": 3
   },
   "file_extension": ".py",
   "mimetype": "text/x-python",
   "name": "python",
   "nbconvert_exporter": "python",
   "pygments_lexer": "ipython3",
   "version": "3.8.5"
  }
 },
 "nbformat": 4,
 "nbformat_minor": 4
}
