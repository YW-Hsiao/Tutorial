{
 "cells": [
  {
   "cell_type": "markdown",
   "metadata": {},
   "source": [
    "# numpy.stack\n",
    "https://numpy.org/doc/stable/reference/generated/numpy.stack.html#numpy.stack"
   ]
  },
  {
   "cell_type": "code",
   "execution_count": 1,
   "metadata": {},
   "outputs": [],
   "source": [
    "import numpy as np"
   ]
  },
  {
   "cell_type": "markdown",
   "metadata": {},
   "source": [
    "## 1. Examples 1"
   ]
  },
  {
   "cell_type": "code",
   "execution_count": 2,
   "metadata": {},
   "outputs": [
    {
     "data": {
      "text/plain": [
       "[array([[-0.7023828 , -0.45494705,  0.48614511, -1.00793361],\n",
       "        [ 0.33948546,  0.56553811,  1.01974953, -1.38843388],\n",
       "        [-1.02529979, -0.27643638,  0.29683372, -1.45077964]]),\n",
       " array([[ 2.01910046, -1.31882958, -0.12317833, -0.83504207],\n",
       "        [-0.08078266,  1.95663277, -1.06204748, -1.32483679],\n",
       "        [-1.69391658,  0.56776613, -0.19940533, -0.67844339]]),\n",
       " array([[ 1.02184325, -0.0503627 ,  1.03732305, -1.89951151],\n",
       "        [ 1.39100504, -0.23246053, -0.53583608,  0.50429974],\n",
       "        [-1.37709898, -1.31980366,  0.32193089, -0.05212029]]),\n",
       " array([[-1.14770459,  1.22124717, -0.2634807 , -0.639932  ],\n",
       "        [-0.16394151,  0.30817447,  0.45838035, -1.07182348],\n",
       "        [ 0.1729361 ,  1.03779218,  0.19476423,  2.14912081]]),\n",
       " array([[ 0.77376215,  1.55181565, -0.03538139,  0.77876325],\n",
       "        [ 0.7559586 , -0.5841453 ,  0.27190693, -0.63238529],\n",
       "        [ 0.18539521,  0.29601877,  1.45501222,  0.02104568]]),\n",
       " array([[-0.40778334, -0.30419918, -1.24079135, -0.48693396],\n",
       "        [-1.54650259, -0.61697324,  0.18126111, -1.20230964],\n",
       "        [-0.18329055,  0.90815909,  1.14221934, -0.36802824]]),\n",
       " array([[ 0.38529199, -1.0329774 ,  1.13547164,  1.32800157],\n",
       "        [ 0.59907497,  0.45820684, -0.56787976, -1.93393555],\n",
       "        [-3.1229355 , -0.02541913, -0.52561945, -0.85951794]]),\n",
       " array([[-0.1373168 ,  1.07504753,  0.7108573 ,  2.25552489],\n",
       "        [ 0.53960315,  0.33325541,  0.1699367 , -1.0191021 ],\n",
       "        [-1.21325637, -0.31951655, -1.92793037,  2.18543154]]),\n",
       " array([[ 0.57377328, -0.29788484,  0.9037411 ,  0.92082458],\n",
       "        [-0.93930297, -0.02531685, -2.50709017, -1.32251284],\n",
       "        [-1.34493504,  1.13104909,  0.26250023, -0.62512779]]),\n",
       " array([[ 0.22546989, -2.02416508, -0.32155525,  0.31639413],\n",
       "        [ 1.68833264, -0.55314865, -2.81738919,  0.16510081],\n",
       "        [-0.70342133,  1.24591923, -0.64883083,  0.71140826]])]"
      ]
     },
     "execution_count": 2,
     "metadata": {},
     "output_type": "execute_result"
    }
   ],
   "source": [
    "arrays = [np.random.randn(3, 4) for _ in range(10)]\n",
    "arrays"
   ]
  },
  {
   "cell_type": "code",
   "execution_count": 3,
   "metadata": {},
   "outputs": [
    {
     "ename": "AttributeError",
     "evalue": "'list' object has no attribute 'shape'",
     "output_type": "error",
     "traceback": [
      "\u001b[0;31m---------------------------------------------------------------------------\u001b[0m",
      "\u001b[0;31mAttributeError\u001b[0m                            Traceback (most recent call last)",
      "\u001b[0;32m<ipython-input-3-c713f8558cde>\u001b[0m in \u001b[0;36m<module>\u001b[0;34m\u001b[0m\n\u001b[0;32m----> 1\u001b[0;31m \u001b[0marrays\u001b[0m\u001b[0;34m.\u001b[0m\u001b[0mshape\u001b[0m\u001b[0;34m\u001b[0m\u001b[0;34m\u001b[0m\u001b[0m\n\u001b[0m",
      "\u001b[0;31mAttributeError\u001b[0m: 'list' object has no attribute 'shape'"
     ]
    }
   ],
   "source": [
    "arrays.shape"
   ]
  },
  {
   "cell_type": "code",
   "execution_count": 4,
   "metadata": {},
   "outputs": [
    {
     "data": {
      "text/plain": [
       "(3, 4)"
      ]
     },
     "execution_count": 4,
     "metadata": {},
     "output_type": "execute_result"
    }
   ],
   "source": [
    "arrays[0].shape"
   ]
  },
  {
   "cell_type": "code",
   "execution_count": 5,
   "metadata": {},
   "outputs": [
    {
     "data": {
      "text/plain": [
       "10"
      ]
     },
     "execution_count": 5,
     "metadata": {},
     "output_type": "execute_result"
    }
   ],
   "source": [
    "len(arrays)"
   ]
  },
  {
   "cell_type": "code",
   "execution_count": 6,
   "metadata": {},
   "outputs": [
    {
     "data": {
      "text/plain": [
       "(10, 3, 4)"
      ]
     },
     "execution_count": 6,
     "metadata": {},
     "output_type": "execute_result"
    }
   ],
   "source": [
    "np.stack(arrays, axis=0).shape"
   ]
  },
  {
   "cell_type": "code",
   "execution_count": 7,
   "metadata": {},
   "outputs": [
    {
     "data": {
      "text/plain": [
       "array([[[-0.7023828 , -0.45494705,  0.48614511, -1.00793361],\n",
       "        [ 0.33948546,  0.56553811,  1.01974953, -1.38843388],\n",
       "        [-1.02529979, -0.27643638,  0.29683372, -1.45077964]],\n",
       "\n",
       "       [[ 2.01910046, -1.31882958, -0.12317833, -0.83504207],\n",
       "        [-0.08078266,  1.95663277, -1.06204748, -1.32483679],\n",
       "        [-1.69391658,  0.56776613, -0.19940533, -0.67844339]],\n",
       "\n",
       "       [[ 1.02184325, -0.0503627 ,  1.03732305, -1.89951151],\n",
       "        [ 1.39100504, -0.23246053, -0.53583608,  0.50429974],\n",
       "        [-1.37709898, -1.31980366,  0.32193089, -0.05212029]],\n",
       "\n",
       "       [[-1.14770459,  1.22124717, -0.2634807 , -0.639932  ],\n",
       "        [-0.16394151,  0.30817447,  0.45838035, -1.07182348],\n",
       "        [ 0.1729361 ,  1.03779218,  0.19476423,  2.14912081]],\n",
       "\n",
       "       [[ 0.77376215,  1.55181565, -0.03538139,  0.77876325],\n",
       "        [ 0.7559586 , -0.5841453 ,  0.27190693, -0.63238529],\n",
       "        [ 0.18539521,  0.29601877,  1.45501222,  0.02104568]],\n",
       "\n",
       "       [[-0.40778334, -0.30419918, -1.24079135, -0.48693396],\n",
       "        [-1.54650259, -0.61697324,  0.18126111, -1.20230964],\n",
       "        [-0.18329055,  0.90815909,  1.14221934, -0.36802824]],\n",
       "\n",
       "       [[ 0.38529199, -1.0329774 ,  1.13547164,  1.32800157],\n",
       "        [ 0.59907497,  0.45820684, -0.56787976, -1.93393555],\n",
       "        [-3.1229355 , -0.02541913, -0.52561945, -0.85951794]],\n",
       "\n",
       "       [[-0.1373168 ,  1.07504753,  0.7108573 ,  2.25552489],\n",
       "        [ 0.53960315,  0.33325541,  0.1699367 , -1.0191021 ],\n",
       "        [-1.21325637, -0.31951655, -1.92793037,  2.18543154]],\n",
       "\n",
       "       [[ 0.57377328, -0.29788484,  0.9037411 ,  0.92082458],\n",
       "        [-0.93930297, -0.02531685, -2.50709017, -1.32251284],\n",
       "        [-1.34493504,  1.13104909,  0.26250023, -0.62512779]],\n",
       "\n",
       "       [[ 0.22546989, -2.02416508, -0.32155525,  0.31639413],\n",
       "        [ 1.68833264, -0.55314865, -2.81738919,  0.16510081],\n",
       "        [-0.70342133,  1.24591923, -0.64883083,  0.71140826]]])"
      ]
     },
     "execution_count": 7,
     "metadata": {},
     "output_type": "execute_result"
    }
   ],
   "source": [
    "arrays_stack0 = np.stack(arrays, axis=0)\n",
    "arrays_stack0"
   ]
  },
  {
   "cell_type": "code",
   "execution_count": 8,
   "metadata": {},
   "outputs": [
    {
     "data": {
      "text/plain": [
       "array([[-0.7023828 , -0.45494705,  0.48614511, -1.00793361],\n",
       "       [ 0.33948546,  0.56553811,  1.01974953, -1.38843388],\n",
       "       [-1.02529979, -0.27643638,  0.29683372, -1.45077964]])"
      ]
     },
     "execution_count": 8,
     "metadata": {},
     "output_type": "execute_result"
    }
   ],
   "source": [
    "arrays_stack0[0]"
   ]
  },
  {
   "cell_type": "code",
   "execution_count": 9,
   "metadata": {},
   "outputs": [
    {
     "data": {
      "text/plain": [
       "array([[-0.7023828 , -0.45494705,  0.48614511, -1.00793361],\n",
       "       [ 0.33948546,  0.56553811,  1.01974953, -1.38843388],\n",
       "       [-1.02529979, -0.27643638,  0.29683372, -1.45077964]])"
      ]
     },
     "execution_count": 9,
     "metadata": {},
     "output_type": "execute_result"
    }
   ],
   "source": [
    "arrays[0]"
   ]
  },
  {
   "cell_type": "code",
   "execution_count": 10,
   "metadata": {},
   "outputs": [
    {
     "data": {
      "text/plain": [
       "array([[0., 0., 0., 0.],\n",
       "       [0., 0., 0., 0.],\n",
       "       [0., 0., 0., 0.]])"
      ]
     },
     "execution_count": 10,
     "metadata": {},
     "output_type": "execute_result"
    }
   ],
   "source": [
    "arrays_stack0[0]-arrays[0]"
   ]
  },
  {
   "cell_type": "code",
   "execution_count": 11,
   "metadata": {},
   "outputs": [
    {
     "name": "stdout",
     "output_type": "stream",
     "text": [
      "0.0\n",
      "0.0\n",
      "0.0\n",
      "0.0\n",
      "0.0\n",
      "0.0\n",
      "0.0\n",
      "0.0\n",
      "0.0\n",
      "0.0\n"
     ]
    }
   ],
   "source": [
    "for i in range(10):\n",
    "    print(np.sum(arrays_stack0[i]-arrays[i]))"
   ]
  },
  {
   "cell_type": "code",
   "execution_count": 12,
   "metadata": {},
   "outputs": [
    {
     "data": {
      "text/plain": [
       "(3, 10, 4)"
      ]
     },
     "execution_count": 12,
     "metadata": {},
     "output_type": "execute_result"
    }
   ],
   "source": [
    "np.stack(arrays, axis=1).shape"
   ]
  },
  {
   "cell_type": "code",
   "execution_count": 13,
   "metadata": {},
   "outputs": [
    {
     "data": {
      "text/plain": [
       "array([[[-0.7023828 , -0.45494705,  0.48614511, -1.00793361],\n",
       "        [ 2.01910046, -1.31882958, -0.12317833, -0.83504207],\n",
       "        [ 1.02184325, -0.0503627 ,  1.03732305, -1.89951151],\n",
       "        [-1.14770459,  1.22124717, -0.2634807 , -0.639932  ],\n",
       "        [ 0.77376215,  1.55181565, -0.03538139,  0.77876325],\n",
       "        [-0.40778334, -0.30419918, -1.24079135, -0.48693396],\n",
       "        [ 0.38529199, -1.0329774 ,  1.13547164,  1.32800157],\n",
       "        [-0.1373168 ,  1.07504753,  0.7108573 ,  2.25552489],\n",
       "        [ 0.57377328, -0.29788484,  0.9037411 ,  0.92082458],\n",
       "        [ 0.22546989, -2.02416508, -0.32155525,  0.31639413]],\n",
       "\n",
       "       [[ 0.33948546,  0.56553811,  1.01974953, -1.38843388],\n",
       "        [-0.08078266,  1.95663277, -1.06204748, -1.32483679],\n",
       "        [ 1.39100504, -0.23246053, -0.53583608,  0.50429974],\n",
       "        [-0.16394151,  0.30817447,  0.45838035, -1.07182348],\n",
       "        [ 0.7559586 , -0.5841453 ,  0.27190693, -0.63238529],\n",
       "        [-1.54650259, -0.61697324,  0.18126111, -1.20230964],\n",
       "        [ 0.59907497,  0.45820684, -0.56787976, -1.93393555],\n",
       "        [ 0.53960315,  0.33325541,  0.1699367 , -1.0191021 ],\n",
       "        [-0.93930297, -0.02531685, -2.50709017, -1.32251284],\n",
       "        [ 1.68833264, -0.55314865, -2.81738919,  0.16510081]],\n",
       "\n",
       "       [[-1.02529979, -0.27643638,  0.29683372, -1.45077964],\n",
       "        [-1.69391658,  0.56776613, -0.19940533, -0.67844339],\n",
       "        [-1.37709898, -1.31980366,  0.32193089, -0.05212029],\n",
       "        [ 0.1729361 ,  1.03779218,  0.19476423,  2.14912081],\n",
       "        [ 0.18539521,  0.29601877,  1.45501222,  0.02104568],\n",
       "        [-0.18329055,  0.90815909,  1.14221934, -0.36802824],\n",
       "        [-3.1229355 , -0.02541913, -0.52561945, -0.85951794],\n",
       "        [-1.21325637, -0.31951655, -1.92793037,  2.18543154],\n",
       "        [-1.34493504,  1.13104909,  0.26250023, -0.62512779],\n",
       "        [-0.70342133,  1.24591923, -0.64883083,  0.71140826]]])"
      ]
     },
     "execution_count": 13,
     "metadata": {},
     "output_type": "execute_result"
    }
   ],
   "source": [
    "arrays_stack1 = np.stack(arrays, axis=1)\n",
    "arrays_stack1"
   ]
  },
  {
   "cell_type": "code",
   "execution_count": 14,
   "metadata": {},
   "outputs": [
    {
     "data": {
      "text/plain": [
       "(3, 4, 10)"
      ]
     },
     "execution_count": 14,
     "metadata": {},
     "output_type": "execute_result"
    }
   ],
   "source": [
    "np.stack(arrays, axis=2).shape"
   ]
  },
  {
   "cell_type": "code",
   "execution_count": 15,
   "metadata": {},
   "outputs": [
    {
     "data": {
      "text/plain": [
       "array([[[-0.7023828 ,  2.01910046,  1.02184325, -1.14770459,\n",
       "          0.77376215, -0.40778334,  0.38529199, -0.1373168 ,\n",
       "          0.57377328,  0.22546989],\n",
       "        [-0.45494705, -1.31882958, -0.0503627 ,  1.22124717,\n",
       "          1.55181565, -0.30419918, -1.0329774 ,  1.07504753,\n",
       "         -0.29788484, -2.02416508],\n",
       "        [ 0.48614511, -0.12317833,  1.03732305, -0.2634807 ,\n",
       "         -0.03538139, -1.24079135,  1.13547164,  0.7108573 ,\n",
       "          0.9037411 , -0.32155525],\n",
       "        [-1.00793361, -0.83504207, -1.89951151, -0.639932  ,\n",
       "          0.77876325, -0.48693396,  1.32800157,  2.25552489,\n",
       "          0.92082458,  0.31639413]],\n",
       "\n",
       "       [[ 0.33948546, -0.08078266,  1.39100504, -0.16394151,\n",
       "          0.7559586 , -1.54650259,  0.59907497,  0.53960315,\n",
       "         -0.93930297,  1.68833264],\n",
       "        [ 0.56553811,  1.95663277, -0.23246053,  0.30817447,\n",
       "         -0.5841453 , -0.61697324,  0.45820684,  0.33325541,\n",
       "         -0.02531685, -0.55314865],\n",
       "        [ 1.01974953, -1.06204748, -0.53583608,  0.45838035,\n",
       "          0.27190693,  0.18126111, -0.56787976,  0.1699367 ,\n",
       "         -2.50709017, -2.81738919],\n",
       "        [-1.38843388, -1.32483679,  0.50429974, -1.07182348,\n",
       "         -0.63238529, -1.20230964, -1.93393555, -1.0191021 ,\n",
       "         -1.32251284,  0.16510081]],\n",
       "\n",
       "       [[-1.02529979, -1.69391658, -1.37709898,  0.1729361 ,\n",
       "          0.18539521, -0.18329055, -3.1229355 , -1.21325637,\n",
       "         -1.34493504, -0.70342133],\n",
       "        [-0.27643638,  0.56776613, -1.31980366,  1.03779218,\n",
       "          0.29601877,  0.90815909, -0.02541913, -0.31951655,\n",
       "          1.13104909,  1.24591923],\n",
       "        [ 0.29683372, -0.19940533,  0.32193089,  0.19476423,\n",
       "          1.45501222,  1.14221934, -0.52561945, -1.92793037,\n",
       "          0.26250023, -0.64883083],\n",
       "        [-1.45077964, -0.67844339, -0.05212029,  2.14912081,\n",
       "          0.02104568, -0.36802824, -0.85951794,  2.18543154,\n",
       "         -0.62512779,  0.71140826]]])"
      ]
     },
     "execution_count": 15,
     "metadata": {},
     "output_type": "execute_result"
    }
   ],
   "source": [
    "arrays_stack2 = np.stack(arrays, axis=2)\n",
    "arrays_stack2"
   ]
  },
  {
   "cell_type": "markdown",
   "metadata": {},
   "source": [
    "## 2. Example 2"
   ]
  },
  {
   "cell_type": "code",
   "execution_count": 16,
   "metadata": {},
   "outputs": [
    {
     "data": {
      "text/plain": [
       "array([[1, 2, 3],\n",
       "       [2, 3, 4]])"
      ]
     },
     "execution_count": 16,
     "metadata": {},
     "output_type": "execute_result"
    }
   ],
   "source": [
    "a = np.array([1, 2, 3])\n",
    "b = np.array([2, 3, 4])\n",
    "ab_stack = np.stack((a, b))\n",
    "ab_stack"
   ]
  },
  {
   "cell_type": "code",
   "execution_count": 17,
   "metadata": {},
   "outputs": [
    {
     "data": {
      "text/plain": [
       "array([2, 3, 4])"
      ]
     },
     "execution_count": 17,
     "metadata": {},
     "output_type": "execute_result"
    }
   ],
   "source": [
    "ab_stack[1]"
   ]
  },
  {
   "cell_type": "code",
   "execution_count": 18,
   "metadata": {},
   "outputs": [
    {
     "data": {
      "text/plain": [
       "array([0, 0, 0])"
      ]
     },
     "execution_count": 18,
     "metadata": {},
     "output_type": "execute_result"
    }
   ],
   "source": [
    "ab_stack[1]-b"
   ]
  },
  {
   "cell_type": "code",
   "execution_count": 19,
   "metadata": {},
   "outputs": [
    {
     "data": {
      "text/plain": [
       "array([[1, 2],\n",
       "       [2, 3],\n",
       "       [3, 4]])"
      ]
     },
     "execution_count": 19,
     "metadata": {},
     "output_type": "execute_result"
    }
   ],
   "source": [
    "ab_stack_m1 = np.stack((a, b), axis=-1)\n",
    "ab_stack_m1"
   ]
  },
  {
   "cell_type": "markdown",
   "metadata": {},
   "source": [
    "## 3. Test by myself"
   ]
  },
  {
   "cell_type": "markdown",
   "metadata": {},
   "source": [
    "### 3-1. Test 1"
   ]
  },
  {
   "cell_type": "code",
   "execution_count": 20,
   "metadata": {},
   "outputs": [
    {
     "data": {
      "text/plain": [
       "array([[1, 2, 3],\n",
       "       [2, 3, 4],\n",
       "       [3, 4, 5]])"
      ]
     },
     "execution_count": 20,
     "metadata": {},
     "output_type": "execute_result"
    }
   ],
   "source": [
    "c = np.array([3, 4, 5])\n",
    "np.stack((a, b, c))"
   ]
  },
  {
   "cell_type": "markdown",
   "metadata": {},
   "source": [
    "### 3-2. Test 2"
   ]
  },
  {
   "cell_type": "code",
   "execution_count": 21,
   "metadata": {},
   "outputs": [
    {
     "data": {
      "text/plain": [
       "array([[1, 2, 3],\n",
       "       [2, 3, 4]])"
      ]
     },
     "execution_count": 21,
     "metadata": {},
     "output_type": "execute_result"
    }
   ],
   "source": [
    "np.stack((a, b), axis=0)"
   ]
  },
  {
   "cell_type": "code",
   "execution_count": 22,
   "metadata": {},
   "outputs": [
    {
     "data": {
      "text/plain": [
       "array([[1, 2],\n",
       "       [2, 3],\n",
       "       [3, 4]])"
      ]
     },
     "execution_count": 22,
     "metadata": {},
     "output_type": "execute_result"
    }
   ],
   "source": [
    "np.stack((a, b), axis=1)"
   ]
  },
  {
   "cell_type": "code",
   "execution_count": 23,
   "metadata": {},
   "outputs": [
    {
     "ename": "AxisError",
     "evalue": "axis 2 is out of bounds for array of dimension 2",
     "output_type": "error",
     "traceback": [
      "\u001b[0;31m---------------------------------------------------------------------------\u001b[0m",
      "\u001b[0;31mAxisError\u001b[0m                                 Traceback (most recent call last)",
      "\u001b[0;32m<ipython-input-23-17f05dff0a3f>\u001b[0m in \u001b[0;36m<module>\u001b[0;34m\u001b[0m\n\u001b[0;32m----> 1\u001b[0;31m \u001b[0mnp\u001b[0m\u001b[0;34m.\u001b[0m\u001b[0mstack\u001b[0m\u001b[0;34m(\u001b[0m\u001b[0;34m(\u001b[0m\u001b[0ma\u001b[0m\u001b[0;34m,\u001b[0m \u001b[0mb\u001b[0m\u001b[0;34m)\u001b[0m\u001b[0;34m,\u001b[0m \u001b[0maxis\u001b[0m\u001b[0;34m=\u001b[0m\u001b[0;36m2\u001b[0m\u001b[0;34m)\u001b[0m\u001b[0;34m\u001b[0m\u001b[0;34m\u001b[0m\u001b[0m\n\u001b[0m",
      "\u001b[0;32m<__array_function__ internals>\u001b[0m in \u001b[0;36mstack\u001b[0;34m(*args, **kwargs)\u001b[0m\n",
      "\u001b[0;32m/usr/local/lib/python3.8/dist-packages/numpy/core/shape_base.py\u001b[0m in \u001b[0;36mstack\u001b[0;34m(arrays, axis, out)\u001b[0m\n\u001b[1;32m    427\u001b[0m \u001b[0;34m\u001b[0m\u001b[0m\n\u001b[1;32m    428\u001b[0m     \u001b[0mresult_ndim\u001b[0m \u001b[0;34m=\u001b[0m \u001b[0marrays\u001b[0m\u001b[0;34m[\u001b[0m\u001b[0;36m0\u001b[0m\u001b[0;34m]\u001b[0m\u001b[0;34m.\u001b[0m\u001b[0mndim\u001b[0m \u001b[0;34m+\u001b[0m \u001b[0;36m1\u001b[0m\u001b[0;34m\u001b[0m\u001b[0;34m\u001b[0m\u001b[0m\n\u001b[0;32m--> 429\u001b[0;31m     \u001b[0maxis\u001b[0m \u001b[0;34m=\u001b[0m \u001b[0mnormalize_axis_index\u001b[0m\u001b[0;34m(\u001b[0m\u001b[0maxis\u001b[0m\u001b[0;34m,\u001b[0m \u001b[0mresult_ndim\u001b[0m\u001b[0;34m)\u001b[0m\u001b[0;34m\u001b[0m\u001b[0;34m\u001b[0m\u001b[0m\n\u001b[0m\u001b[1;32m    430\u001b[0m \u001b[0;34m\u001b[0m\u001b[0m\n\u001b[1;32m    431\u001b[0m     \u001b[0msl\u001b[0m \u001b[0;34m=\u001b[0m \u001b[0;34m(\u001b[0m\u001b[0mslice\u001b[0m\u001b[0;34m(\u001b[0m\u001b[0;32mNone\u001b[0m\u001b[0;34m)\u001b[0m\u001b[0;34m,\u001b[0m\u001b[0;34m)\u001b[0m \u001b[0;34m*\u001b[0m \u001b[0maxis\u001b[0m \u001b[0;34m+\u001b[0m \u001b[0;34m(\u001b[0m\u001b[0m_nx\u001b[0m\u001b[0;34m.\u001b[0m\u001b[0mnewaxis\u001b[0m\u001b[0;34m,\u001b[0m\u001b[0;34m)\u001b[0m\u001b[0;34m\u001b[0m\u001b[0;34m\u001b[0m\u001b[0m\n",
      "\u001b[0;31mAxisError\u001b[0m: axis 2 is out of bounds for array of dimension 2"
     ]
    }
   ],
   "source": [
    "np.stack((a, b), axis=2)"
   ]
  },
  {
   "cell_type": "code",
   "execution_count": 24,
   "metadata": {},
   "outputs": [
    {
     "name": "stdout",
     "output_type": "stream",
     "text": [
      "(2, 2, 3)\n"
     ]
    },
    {
     "data": {
      "text/plain": [
       "array([[[ 1,  2, 11],\n",
       "        [ 3,  4, 22]],\n",
       "\n",
       "       [[ 5,  6, 33],\n",
       "        [ 7,  8, 44]]])"
      ]
     },
     "execution_count": 24,
     "metadata": {},
     "output_type": "execute_result"
    }
   ],
   "source": [
    "c = np.array([[1,2,11],[3,4,22]])\n",
    "d = np.array([[5,6,33],[7,8,44]])\n",
    "cd_stack0 = np.stack((c, d), axis=0)\n",
    "print(cd_stack0.shape)\n",
    "cd_stack0"
   ]
  },
  {
   "cell_type": "code",
   "execution_count": 25,
   "metadata": {},
   "outputs": [
    {
     "name": "stdout",
     "output_type": "stream",
     "text": [
      "(2, 2, 3)\n"
     ]
    },
    {
     "data": {
      "text/plain": [
       "array([[[ 1,  2, 11],\n",
       "        [ 5,  6, 33]],\n",
       "\n",
       "       [[ 3,  4, 22],\n",
       "        [ 7,  8, 44]]])"
      ]
     },
     "execution_count": 25,
     "metadata": {},
     "output_type": "execute_result"
    }
   ],
   "source": [
    "cd_stack1 = np.stack((c, d), axis=1)\n",
    "print(cd_stack1.shape)\n",
    "cd_stack1"
   ]
  },
  {
   "cell_type": "code",
   "execution_count": 26,
   "metadata": {},
   "outputs": [
    {
     "name": "stdout",
     "output_type": "stream",
     "text": [
      "(2, 3, 2)\n"
     ]
    },
    {
     "data": {
      "text/plain": [
       "array([[[ 1,  5],\n",
       "        [ 2,  6],\n",
       "        [11, 33]],\n",
       "\n",
       "       [[ 3,  7],\n",
       "        [ 4,  8],\n",
       "        [22, 44]]])"
      ]
     },
     "execution_count": 26,
     "metadata": {},
     "output_type": "execute_result"
    }
   ],
   "source": [
    "cd_stack2 = np.stack((c, d), axis=2)\n",
    "print(cd_stack2.shape)\n",
    "cd_stack2"
   ]
  },
  {
   "cell_type": "code",
   "execution_count": null,
   "metadata": {},
   "outputs": [],
   "source": []
  }
 ],
 "metadata": {
  "kernelspec": {
   "display_name": "Python 3",
   "language": "python",
   "name": "python3"
  },
  "language_info": {
   "codemirror_mode": {
    "name": "ipython",
    "version": 3
   },
   "file_extension": ".py",
   "mimetype": "text/x-python",
   "name": "python",
   "nbconvert_exporter": "python",
   "pygments_lexer": "ipython3",
   "version": "3.8.5"
  }
 },
 "nbformat": 4,
 "nbformat_minor": 4
}
