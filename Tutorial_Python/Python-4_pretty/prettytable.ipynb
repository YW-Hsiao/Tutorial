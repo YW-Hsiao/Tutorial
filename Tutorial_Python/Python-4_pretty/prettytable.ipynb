{
 "cells": [
  {
   "cell_type": "markdown",
   "metadata": {},
   "source": [
    "# prettytable\n",
    "https://pypi.org/project/prettytable/  \n",
    "You must install the package in terminal using  \n",
    "pip3 install prettytable  \n",
    "pip install prettytable  \n",
    "  \n",
    "python -m pip install -U prettytable  \n",
    "or install latest version  \n",
    "python -m pip install -U git+https://github.com/jazzband/prettytable  \n",
    "There are some problem!!"
   ]
  },
  {
   "cell_type": "code",
   "execution_count": 1,
   "metadata": {},
   "outputs": [],
   "source": [
    "from prettytable import PrettyTable"
   ]
  },
  {
   "cell_type": "markdown",
   "metadata": {},
   "source": [
    "## 1. https://pypi.org/project/prettytable/"
   ]
  },
  {
   "cell_type": "markdown",
   "metadata": {},
   "source": [
    "### 1-1. Getting your data into (and out of) the table."
   ]
  },
  {
   "cell_type": "code",
   "execution_count": 2,
   "metadata": {},
   "outputs": [
    {
     "data": {
      "text/plain": [
       "<prettytable.prettytable.PrettyTable at 0x7f8ac0a10220>"
      ]
     },
     "execution_count": 2,
     "metadata": {},
     "output_type": "execute_result"
    }
   ],
   "source": [
    "from prettytable import PrettyTable\n",
    "x = PrettyTable()\n",
    "x"
   ]
  },
  {
   "cell_type": "code",
   "execution_count": 3,
   "metadata": {},
   "outputs": [
    {
     "name": "stdout",
     "output_type": "stream",
     "text": [
      "++\n",
      "||\n",
      "++\n",
      "++\n"
     ]
    }
   ],
   "source": [
    "print(x)"
   ]
  },
  {
   "cell_type": "markdown",
   "metadata": {},
   "source": [
    "### 1-2. Row by row"
   ]
  },
  {
   "cell_type": "code",
   "execution_count": 4,
   "metadata": {},
   "outputs": [
    {
     "data": {
      "text/plain": [
       "<prettytable.prettytable.PrettyTable at 0x7f8ac0a10220>"
      ]
     },
     "execution_count": 4,
     "metadata": {},
     "output_type": "execute_result"
    }
   ],
   "source": [
    "x.field_names = [\"City name\", \"Area\", \"Population\", \"Annual Rainfall\"]\n",
    "x.add_row([\"Adelaide\", 1295, 1158259, 600.5])\n",
    "x.add_row([\"Brisbane\", 5905, 1857594, 1146.4])\n",
    "x.add_row([\"Darwin\", 112, 120900, 1714.7])\n",
    "x.add_row([\"Hobart\", 1357, 205556, 619.5])\n",
    "x.add_row([\"Sydney\", 2058, 4336374, 1214.8])\n",
    "x.add_row([\"Melbourne\", 1566, 3806092, 646.9])\n",
    "x.add_row([\"Perth\", 5386, 1554769, 869.4])\n",
    "x"
   ]
  },
  {
   "cell_type": "code",
   "execution_count": 5,
   "metadata": {},
   "outputs": [
    {
     "name": "stdout",
     "output_type": "stream",
     "text": [
      "+-----------+------+------------+-----------------+\n",
      "| City name | Area | Population | Annual Rainfall |\n",
      "+-----------+------+------------+-----------------+\n",
      "|  Adelaide | 1295 |  1158259   |      600.5      |\n",
      "|  Brisbane | 5905 |  1857594   |      1146.4     |\n",
      "|   Darwin  | 112  |   120900   |      1714.7     |\n",
      "|   Hobart  | 1357 |   205556   |      619.5      |\n",
      "|   Sydney  | 2058 |  4336374   |      1214.8     |\n",
      "| Melbourne | 1566 |  3806092   |      646.9      |\n",
      "|   Perth   | 5386 |  1554769   |      869.4      |\n",
      "+-----------+------+------------+-----------------+\n"
     ]
    }
   ],
   "source": [
    "print(x)"
   ]
  },
  {
   "cell_type": "markdown",
   "metadata": {},
   "source": [
    "### 1-3. All rows at once"
   ]
  },
  {
   "cell_type": "code",
   "execution_count": 6,
   "metadata": {},
   "outputs": [],
   "source": [
    "x = PrettyTable()\n",
    "x.field_names = [\"City name\", \"Area\", \"Population\", \"Annual Rainfall\"]\n",
    "x.add_rows(\n",
    "    [\n",
    "        [\"Adelaide\", 1295, 1158259, 600.5],\n",
    "        [\"Brisbane\", 5905, 1857594, 1146.4],\n",
    "        [\"Darwin\", 112, 120900, 1714.7],\n",
    "        [\"Hobart\", 1357, 205556, 619.5],\n",
    "        [\"Sydney\", 2058, 4336374, 1214.8],\n",
    "        [\"Melbourne\", 1566, 3806092, 646.9],\n",
    "        [\"Perth\", 5386, 1554769, 869.4],\n",
    "    ]\n",
    ")"
   ]
  },
  {
   "cell_type": "code",
   "execution_count": 7,
   "metadata": {},
   "outputs": [
    {
     "name": "stdout",
     "output_type": "stream",
     "text": [
      "+-----------+------+------------+-----------------+\n",
      "| City name | Area | Population | Annual Rainfall |\n",
      "+-----------+------+------------+-----------------+\n",
      "|  Adelaide | 1295 |  1158259   |      600.5      |\n",
      "|  Brisbane | 5905 |  1857594   |      1146.4     |\n",
      "|   Darwin  | 112  |   120900   |      1714.7     |\n",
      "|   Hobart  | 1357 |   205556   |      619.5      |\n",
      "|   Sydney  | 2058 |  4336374   |      1214.8     |\n",
      "| Melbourne | 1566 |  3806092   |      646.9      |\n",
      "|   Perth   | 5386 |  1554769   |      869.4      |\n",
      "+-----------+------+------------+-----------------+\n"
     ]
    }
   ],
   "source": [
    "print(x)"
   ]
  },
  {
   "cell_type": "markdown",
   "metadata": {},
   "source": [
    "### 1-4. Column by column"
   ]
  },
  {
   "cell_type": "code",
   "execution_count": 8,
   "metadata": {},
   "outputs": [],
   "source": [
    "x = PrettyTable()\n",
    "x.add_column(\"City name\",\n",
    "[\"Adelaide\",\"Brisbane\",\"Darwin\",\"Hobart\",\"Sydney\",\"Melbourne\",\"Perth\"])\n",
    "x.add_column(\"Area\", [1295, 5905, 112, 1357, 2058, 1566, 5386])\n",
    "x.add_column(\"Population\", [1158259, 1857594, 120900, 205556, 4336374, 3806092,\n",
    "1554769])\n",
    "x.add_column(\"Annual Rainfall\",[600.5, 1146.4, 1714.7, 619.5, 1214.8, 646.9,\n",
    "869.4])"
   ]
  },
  {
   "cell_type": "code",
   "execution_count": 9,
   "metadata": {},
   "outputs": [
    {
     "name": "stdout",
     "output_type": "stream",
     "text": [
      "+-----------+------+------------+-----------------+\n",
      "| City name | Area | Population | Annual Rainfall |\n",
      "+-----------+------+------------+-----------------+\n",
      "|  Adelaide | 1295 |  1158259   |      600.5      |\n",
      "|  Brisbane | 5905 |  1857594   |      1146.4     |\n",
      "|   Darwin  | 112  |   120900   |      1714.7     |\n",
      "|   Hobart  | 1357 |   205556   |      619.5      |\n",
      "|   Sydney  | 2058 |  4336374   |      1214.8     |\n",
      "| Melbourne | 1566 |  3806092   |      646.9      |\n",
      "|   Perth   | 5386 |  1554769   |      869.4      |\n",
      "+-----------+------+------------+-----------------+\n"
     ]
    }
   ],
   "source": [
    "print(x)"
   ]
  },
  {
   "cell_type": "markdown",
   "metadata": {},
   "source": [
    "## 2. https://geek-docs.com/python/python-tutorial/python-prettytable.html"
   ]
  },
  {
   "cell_type": "code",
   "execution_count": null,
   "metadata": {},
   "outputs": [],
   "source": []
  },
  {
   "cell_type": "code",
   "execution_count": null,
   "metadata": {},
   "outputs": [],
   "source": []
  },
  {
   "cell_type": "markdown",
   "metadata": {},
   "source": [
    "## 3. https://medium.com/mr-brown/python-pretty-table-%E7%BE%8E%E9%BA%97%E7%9A%84%E8%A1%A8-a7879a47ade8"
   ]
  },
  {
   "cell_type": "code",
   "execution_count": null,
   "metadata": {},
   "outputs": [],
   "source": []
  },
  {
   "cell_type": "code",
   "execution_count": null,
   "metadata": {},
   "outputs": [],
   "source": []
  },
  {
   "cell_type": "markdown",
   "metadata": {},
   "source": [
    "## 4. https://blog.csdn.net/s69122942chuiqi/article/details/103717948"
   ]
  },
  {
   "cell_type": "code",
   "execution_count": null,
   "metadata": {},
   "outputs": [],
   "source": []
  }
 ],
 "metadata": {
  "kernelspec": {
   "display_name": "Python 3",
   "language": "python",
   "name": "python3"
  },
  "language_info": {
   "codemirror_mode": {
    "name": "ipython",
    "version": 3
   },
   "file_extension": ".py",
   "mimetype": "text/x-python",
   "name": "python",
   "nbconvert_exporter": "python",
   "pygments_lexer": "ipython3",
   "version": "3.8.5"
  }
 },
 "nbformat": 4,
 "nbformat_minor": 4
}
