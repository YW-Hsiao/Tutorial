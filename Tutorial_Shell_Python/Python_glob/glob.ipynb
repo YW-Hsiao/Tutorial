{
 "cells": [
  {
   "cell_type": "markdown",
   "metadata": {},
   "source": [
    "# glob\n",
    "https://docs.python.org/3/library/glob.html  \n",
    "https://zh.wikibooks.org/zh-hant/Python/%E6%96%87%E4%BB%B6  \n",
    "https://clay-atlas.com/blog/2019/10/26/python-chinese-tutorial-packages-glob/?doing_wp_cron=1618740848.8078939914703369140625"
   ]
  },
  {
   "cell_type": "markdown",
   "metadata": {},
   "source": [
    "## 1. https://docs.python.org/3/library/glob.html"
   ]
  },
  {
   "cell_type": "code",
   "execution_count": 1,
   "metadata": {},
   "outputs": [],
   "source": [
    "import glob"
   ]
  },
  {
   "cell_type": "code",
   "execution_count": 2,
   "metadata": {},
   "outputs": [
    {
     "data": {
      "text/plain": [
       "['/youwei_home/Tutorial/glob/abcd.txt']"
      ]
     },
     "execution_count": 2,
     "metadata": {},
     "output_type": "execute_result"
    }
   ],
   "source": [
    "glob.glob('/youwei_home/Tutorial/glob/*.txt')"
   ]
  },
  {
   "cell_type": "code",
   "execution_count": 3,
   "metadata": {},
   "outputs": [
    {
     "data": {
      "text/plain": [
       "['/youwei_home/Tutorial/glob/folder1/b.txt',\n",
       " '/youwei_home/Tutorial/glob/folder1/a.txt']"
      ]
     },
     "execution_count": 3,
     "metadata": {},
     "output_type": "execute_result"
    }
   ],
   "source": [
    "glob.glob('/youwei_home/Tutorial/glob/folder1/*.txt')"
   ]
  },
  {
   "cell_type": "code",
   "execution_count": 4,
   "metadata": {},
   "outputs": [
    {
     "data": {
      "text/plain": [
       "['/youwei_home/Tutorial/glob/folder2/4.log',\n",
       " '/youwei_home/Tutorial/glob/folder2/3.log']"
      ]
     },
     "execution_count": 4,
     "metadata": {},
     "output_type": "execute_result"
    }
   ],
   "source": [
    "glob.glob('/youwei_home/Tutorial/glob/folder2/*.log')"
   ]
  },
  {
   "cell_type": "code",
   "execution_count": 5,
   "metadata": {},
   "outputs": [
    {
     "data": {
      "text/plain": [
       "['/youwei_home/Tutorial/glob/folder1/b.txt',\n",
       " '/youwei_home/Tutorial/glob/folder1/a.txt',\n",
       " '/youwei_home/Tutorial/glob/folder2/2.txt',\n",
       " '/youwei_home/Tutorial/glob/folder2/1.txt']"
      ]
     },
     "execution_count": 5,
     "metadata": {},
     "output_type": "execute_result"
    }
   ],
   "source": [
    "glob.glob('/youwei_home/Tutorial/glob/*/*.txt')"
   ]
  },
  {
   "cell_type": "code",
   "execution_count": 6,
   "metadata": {},
   "outputs": [
    {
     "data": {
      "text/plain": [
       "['/youwei_home/Tutorial/glob/folder1/c.log',\n",
       " '/youwei_home/Tutorial/glob/folder1/d.log',\n",
       " '/youwei_home/Tutorial/glob/folder2/4.log',\n",
       " '/youwei_home/Tutorial/glob/folder2/3.log']"
      ]
     },
     "execution_count": 6,
     "metadata": {},
     "output_type": "execute_result"
    }
   ],
   "source": [
    "glob.glob('/youwei_home/Tutorial/glob/*/*.log')"
   ]
  },
  {
   "cell_type": "code",
   "execution_count": 7,
   "metadata": {},
   "outputs": [
    {
     "data": {
      "text/plain": [
       "['/youwei_home/Tutorial/glob/folder1/b.txt',\n",
       " '/youwei_home/Tutorial/glob/folder1/a.txt',\n",
       " '/youwei_home/Tutorial/glob/folder2/2.txt',\n",
       " '/youwei_home/Tutorial/glob/folder2/1.txt']"
      ]
     },
     "execution_count": 7,
     "metadata": {},
     "output_type": "execute_result"
    }
   ],
   "source": [
    "glob.glob('/youwei_home/Tutorial/glob/**/*.txt')"
   ]
  },
  {
   "cell_type": "code",
   "execution_count": 8,
   "metadata": {},
   "outputs": [
    {
     "data": {
      "text/plain": [
       "['/youwei_home/Tutorial/glob/folder1/c.log',\n",
       " '/youwei_home/Tutorial/glob/folder1/d.log',\n",
       " '/youwei_home/Tutorial/glob/folder2/4.log',\n",
       " '/youwei_home/Tutorial/glob/folder2/3.log']"
      ]
     },
     "execution_count": 8,
     "metadata": {},
     "output_type": "execute_result"
    }
   ],
   "source": [
    "glob.glob('/youwei_home/Tutorial/glob/**/*.log')"
   ]
  },
  {
   "cell_type": "markdown",
   "metadata": {},
   "source": [
    "### 1-1. Take more files."
   ]
  },
  {
   "cell_type": "code",
   "execution_count": 9,
   "metadata": {},
   "outputs": [
    {
     "data": {
      "text/plain": [
       "['/youwei_home/Tutorial/glob/abcd.txt']"
      ]
     },
     "execution_count": 9,
     "metadata": {},
     "output_type": "execute_result"
    }
   ],
   "source": [
    "glob.glob('/youwei_home/Tutorial/glob/*.txt', recursive=True)"
   ]
  },
  {
   "cell_type": "code",
   "execution_count": 10,
   "metadata": {},
   "outputs": [
    {
     "data": {
      "text/plain": [
       "['/youwei_home/Tutorial/glob/folder1/b.txt',\n",
       " '/youwei_home/Tutorial/glob/folder1/a.txt',\n",
       " '/youwei_home/Tutorial/glob/folder2/2.txt',\n",
       " '/youwei_home/Tutorial/glob/folder2/1.txt']"
      ]
     },
     "execution_count": 10,
     "metadata": {},
     "output_type": "execute_result"
    }
   ],
   "source": [
    "glob.glob('/youwei_home/Tutorial/glob/*/*.txt', recursive=True)"
   ]
  },
  {
   "cell_type": "markdown",
   "metadata": {},
   "source": [
    "#### Note: This way is I want."
   ]
  },
  {
   "cell_type": "code",
   "execution_count": 11,
   "metadata": {},
   "outputs": [
    {
     "data": {
      "text/plain": [
       "['/youwei_home/Tutorial/glob/abcd.txt',\n",
       " '/youwei_home/Tutorial/glob/folder1/b.txt',\n",
       " '/youwei_home/Tutorial/glob/folder1/a.txt',\n",
       " '/youwei_home/Tutorial/glob/folder2/2.txt',\n",
       " '/youwei_home/Tutorial/glob/folder2/1.txt']"
      ]
     },
     "execution_count": 11,
     "metadata": {},
     "output_type": "execute_result"
    }
   ],
   "source": [
    "glob.glob('/youwei_home/Tutorial/glob/**/*.txt', recursive=True)"
   ]
  },
  {
   "cell_type": "code",
   "execution_count": 12,
   "metadata": {},
   "outputs": [
    {
     "data": {
      "text/plain": [
       "['abcd.txt',\n",
       " 'folder1/b.txt',\n",
       " 'folder1/a.txt',\n",
       " 'folder2/2.txt',\n",
       " 'folder2/1.txt']"
      ]
     },
     "execution_count": 12,
     "metadata": {},
     "output_type": "execute_result"
    }
   ],
   "source": [
    "glob.glob('**/*.txt', recursive=True)"
   ]
  },
  {
   "cell_type": "code",
   "execution_count": 13,
   "metadata": {},
   "outputs": [
    {
     "data": {
      "text/plain": [
       "['/youwei_home/Tutorial/glob/1234.log',\n",
       " '/youwei_home/Tutorial/glob/folder1/c.log',\n",
       " '/youwei_home/Tutorial/glob/folder1/d.log',\n",
       " '/youwei_home/Tutorial/glob/folder2/4.log',\n",
       " '/youwei_home/Tutorial/glob/folder2/3.log']"
      ]
     },
     "execution_count": 13,
     "metadata": {},
     "output_type": "execute_result"
    }
   ],
   "source": [
    "glob.glob('/youwei_home/Tutorial/glob/**/*.log', recursive=True)"
   ]
  },
  {
   "cell_type": "code",
   "execution_count": 14,
   "metadata": {},
   "outputs": [
    {
     "data": {
      "text/plain": [
       "['1234.log',\n",
       " 'folder1/c.log',\n",
       " 'folder1/d.log',\n",
       " 'folder2/4.log',\n",
       " 'folder2/3.log']"
      ]
     },
     "execution_count": 14,
     "metadata": {},
     "output_type": "execute_result"
    }
   ],
   "source": [
    "glob.glob('**/*.log', recursive=True)"
   ]
  },
  {
   "cell_type": "markdown",
   "metadata": {},
   "source": [
    "### 1-2. Take the upper layer."
   ]
  },
  {
   "cell_type": "code",
   "execution_count": 15,
   "metadata": {},
   "outputs": [
    {
     "data": {
      "text/plain": [
       "['/youwei_home/Tutorial/glob/abcd.txt',\n",
       " '/youwei_home/Tutorial/glob/folder1/b.txt',\n",
       " '/youwei_home/Tutorial/glob/folder1/a.txt',\n",
       " '/youwei_home/Tutorial/glob/folder2/2.txt',\n",
       " '/youwei_home/Tutorial/glob/folder2/1.txt',\n",
       " '/youwei_home/Tutorial/Shell_Script/test_own/nexttest/ech.txt',\n",
       " '/youwei_home/Tutorial/Shell_Script/test_own/nexttest/abc.txt',\n",
       " '/youwei_home/Tutorial/Shell_Script/test_own/nexttest/test.txt']"
      ]
     },
     "execution_count": 15,
     "metadata": {},
     "output_type": "execute_result"
    }
   ],
   "source": [
    "glob.glob('/youwei_home/Tutorial/**/*.txt', recursive=True)"
   ]
  },
  {
   "cell_type": "code",
   "execution_count": 16,
   "metadata": {},
   "outputs": [
    {
     "data": {
      "text/plain": [
       "['/youwei_home/Tutorial/glob/1234.log',\n",
       " '/youwei_home/Tutorial/glob/folder1/c.log',\n",
       " '/youwei_home/Tutorial/glob/folder1/d.log',\n",
       " '/youwei_home/Tutorial/glob/folder2/4.log',\n",
       " '/youwei_home/Tutorial/glob/folder2/3.log',\n",
       " '/youwei_home/Tutorial/Shell_Script/test_own/record.log']"
      ]
     },
     "execution_count": 16,
     "metadata": {},
     "output_type": "execute_result"
    }
   ],
   "source": [
    "glob.glob('/youwei_home/Tutorial/**/*.log', recursive=True)"
   ]
  },
  {
   "cell_type": "code",
   "execution_count": null,
   "metadata": {},
   "outputs": [],
   "source": []
  }
 ],
 "metadata": {
  "kernelspec": {
   "display_name": "Python 3",
   "language": "python",
   "name": "python3"
  },
  "language_info": {
   "codemirror_mode": {
    "name": "ipython",
    "version": 3
   },
   "file_extension": ".py",
   "mimetype": "text/x-python",
   "name": "python",
   "nbconvert_exporter": "python",
   "pygments_lexer": "ipython3",
   "version": "3.8.5"
  }
 },
 "nbformat": 4,
 "nbformat_minor": 4
}
