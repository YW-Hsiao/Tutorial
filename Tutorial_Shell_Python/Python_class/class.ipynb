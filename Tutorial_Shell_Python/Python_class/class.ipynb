{
 "cells": [
  {
   "cell_type": "markdown",
   "metadata": {},
   "source": [
    "# class"
   ]
  },
  {
   "cell_type": "markdown",
   "metadata": {},
   "source": [
    "## Example 1"
   ]
  },
  {
   "cell_type": "code",
   "execution_count": 7,
   "metadata": {},
   "outputs": [
    {
     "name": "stdout",
     "output_type": "stream",
     "text": [
      "My caris black and 4 seats.\n"
     ]
    }
   ],
   "source": [
    "class Cars:\n",
    "    def __init__(self, color, seat):\n",
    "        self.color = color\n",
    "        self.seat = seat\n",
    "    def drive(self):\n",
    "        print(f'My caris {self.color} and {self.seat} seats.')\n",
    "\n",
    "\n",
    "benz = Cars('black', 4)\n",
    "benz.drive()"
   ]
  },
  {
   "cell_type": "code",
   "execution_count": 6,
   "metadata": {},
   "outputs": [
    {
     "name": "stdout",
     "output_type": "stream",
     "text": [
      "SUV\n",
      "6\n",
      "black\n",
      "4\n",
      "<bound method Cars.price of <__main__.Cars object at 0x7fdb7c4b2d68>>\n",
      "120\n",
      "<bound method Cars.cc of <__main__.Cars object at 0x7fdb7c4b2d68>>\n",
      "3500\n"
     ]
    }
   ],
   "source": [
    "class Cars:\n",
    "    def __init__(self, cartype, v, color, seat):\n",
    "        self.cartype = cartype\n",
    "        self.v = v\n",
    "        self.color = color\n",
    "        self.seat = seat\n",
    "    def drive(self):\n",
    "        print(f'My caris {self.color} and {self.seat} seats.')\n",
    "    \n",
    "    def price(self):\n",
    "        return 100+5*self.seat\n",
    "    def cc(self, ccnumber):\n",
    "        return ccnumber\n",
    "\n",
    "\n",
    "benz = Cars('SUV', 6, 'black', 4)\n",
    "print(benz.cartype)\n",
    "print(benz.v)\n",
    "print(benz.color)\n",
    "print(benz.seat)\n",
    "print(benz.price)\n",
    "print(benz.price())\n",
    "print(benz.cc)\n",
    "print(benz.cc(3500))"
   ]
  },
  {
   "cell_type": "code",
   "execution_count": 1,
   "metadata": {},
   "outputs": [
    {
     "name": "stdout",
     "output_type": "stream",
     "text": [
      "My caris self.color and self.seat seats.\n"
     ]
    }
   ],
   "source": [
    "class Cars:\n",
    "    def __init__(self, color, seat):\n",
    "        self.color = color\n",
    "        self.seat = seat\n",
    "    def drive(self):\n",
    "        print('My caris self.color and self.seat seats.')\n",
    "\n",
    "\n",
    "benz = Cars('black', 4)\n",
    "benz.drive()"
   ]
  },
  {
   "cell_type": "markdown",
   "metadata": {},
   "source": [
    "## Example 2"
   ]
  },
  {
   "cell_type": "markdown",
   "metadata": {},
   "source": [
    "#### https://weilihmen.medium.com/%E9%97%9C%E6%96%BCpython%E7%9A%84%E9%A1%9E%E5%88%A5-class-%E5%9F%BA%E6%9C%AC%E7%AF%87-5468812c58f2"
   ]
  },
  {
   "cell_type": "code",
   "execution_count": 8,
   "metadata": {},
   "outputs": [
    {
     "name": "stdout",
     "output_type": "stream",
     "text": [
      "70\n"
     ]
    }
   ],
   "source": [
    "class Account:\n",
    "    def __init__(self, number ,name):\n",
    "        self.number = number\n",
    "        self.name = name\n",
    "        self.balance = 0\n",
    "        \n",
    "    def deposit(self, amount):\n",
    "        if amount <= 0:\n",
    "            raise ValueError('must be positive')\n",
    "        self.balance += amount\n",
    "    def withdraw(self, amount):\n",
    "        if amount <= self.balance:\n",
    "            self.balance -= amount\n",
    "        else:\n",
    "            raise RuntimeError('balance not enough')\n",
    "\n",
    "acct1 = Account('123-456-789', 'Justin')\n",
    "\n",
    "acct1.deposit(100)\n",
    "acct1.withdraw(30)\n",
    "print(acct1.balance)"
   ]
  },
  {
   "cell_type": "code",
   "execution_count": null,
   "metadata": {},
   "outputs": [],
   "source": []
  }
 ],
 "metadata": {
  "kernelspec": {
   "display_name": "Python 3",
   "language": "python",
   "name": "python3"
  },
  "language_info": {
   "codemirror_mode": {
    "name": "ipython",
    "version": 3
   },
   "file_extension": ".py",
   "mimetype": "text/x-python",
   "name": "python",
   "nbconvert_exporter": "python",
   "pygments_lexer": "ipython3",
   "version": "3.8.5"
  }
 },
 "nbformat": 4,
 "nbformat_minor": 4
}
