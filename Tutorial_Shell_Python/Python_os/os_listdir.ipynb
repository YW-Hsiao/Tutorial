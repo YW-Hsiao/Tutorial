{
 "cells": [
  {
   "cell_type": "markdown",
   "metadata": {},
   "source": [
    "# os.listdir\n",
    "https://docs.python.org/3/library/os.html  \n",
    "https://zh.wikibooks.org/zh-hant/Python/%E6%96%87%E4%BB%B6  \n",
    "https://blog.gtwang.org/programming/python-list-all-files-in-directory/  \n",
    "https://learn.markteaching.com/python-join-%E6%95%99%E5%AD%B8/"
   ]
  },
  {
   "cell_type": "markdown",
   "metadata": {},
   "source": [
    "## 1. https://docs.python.org/3/library/os.html"
   ]
  },
  {
   "cell_type": "code",
   "execution_count": 1,
   "metadata": {},
   "outputs": [],
   "source": [
    "import os"
   ]
  },
  {
   "cell_type": "markdown",
   "metadata": {},
   "source": [
    "## 2. https://codertw.com/%E7%A8%8B%E5%BC%8F%E8%AA%9E%E8%A8%80/362018/"
   ]
  },
  {
   "cell_type": "code",
   "execution_count": 2,
   "metadata": {},
   "outputs": [],
   "source": [
    "import os"
   ]
  },
  {
   "cell_type": "markdown",
   "metadata": {},
   "source": [
    "### 2-1. Example 1"
   ]
  },
  {
   "cell_type": "code",
   "execution_count": 3,
   "metadata": {},
   "outputs": [
    {
     "data": {
      "text/plain": [
       "['folder1',\n",
       " 'glob.ipynb',\n",
       " 'abcd.txt',\n",
       " '1234.log',\n",
       " 'folder2',\n",
       " '.ipynb_checkpoints']"
      ]
     },
     "execution_count": 3,
     "metadata": {},
     "output_type": "execute_result"
    }
   ],
   "source": [
    "os.listdir('/youwei_home/Tutorial/glob/')"
   ]
  },
  {
   "cell_type": "code",
   "execution_count": 4,
   "metadata": {},
   "outputs": [
    {
     "name": "stdout",
     "output_type": "stream",
     "text": [
      "/youwei_home/Tutorial/glob/folder1\n",
      "/youwei_home/Tutorial/glob/glob.ipynb\n",
      "/youwei_home/Tutorial/glob/abcd.txt\n",
      "/youwei_home/Tutorial/glob/1234.log\n",
      "/youwei_home/Tutorial/glob/folder2\n",
      "/youwei_home/Tutorial/glob/.ipynb_checkpoints\n"
     ]
    }
   ],
   "source": [
    "path = '/youwei_home/Tutorial/glob'\n",
    "for fileName in os.listdir(path):\n",
    "    print(os.path.join(path, fileName))"
   ]
  },
  {
   "cell_type": "markdown",
   "metadata": {},
   "source": [
    "### 2-2. Example 2"
   ]
  },
  {
   "cell_type": "code",
   "execution_count": 5,
   "metadata": {},
   "outputs": [
    {
     "data": {
      "text/plain": [
       "<generator object walk at 0x7ffba14d7580>"
      ]
     },
     "execution_count": 5,
     "metadata": {},
     "output_type": "execute_result"
    }
   ],
   "source": [
    "os.walk('/youwei_home/Tutorial/glob/')"
   ]
  },
  {
   "cell_type": "code",
   "execution_count": 6,
   "metadata": {},
   "outputs": [
    {
     "name": "stdout",
     "output_type": "stream",
     "text": [
      "/youwei_home/Tutorial/glob ['folder1', 'folder2', '.ipynb_checkpoints'] ['glob.ipynb', 'abcd.txt', '1234.log']\n",
      "/youwei_home/Tutorial/glob/folder1 [] ['c.log', 'b.txt', 'a.txt', 'd.log']\n",
      "/youwei_home/Tutorial/glob/folder2 [] ['2.txt', '4.log', '1.txt', '3.log']\n",
      "/youwei_home/Tutorial/glob/.ipynb_checkpoints [] ['glob-checkpoint.ipynb']\n"
     ]
    }
   ],
   "source": [
    "path = '/youwei_home/Tutorial/glob'\n",
    "for dirPath, dirName, fileName in os.walk(path):\n",
    "    print(dirPath, dirName, fileName)"
   ]
  },
  {
   "cell_type": "code",
   "execution_count": 7,
   "metadata": {},
   "outputs": [
    {
     "name": "stdout",
     "output_type": "stream",
     "text": [
      "/youwei_home/Tutorial/glob\n",
      "/youwei_home/Tutorial/glob/folder1\n",
      "/youwei_home/Tutorial/glob/folder2\n",
      "/youwei_home/Tutorial/glob/.ipynb_checkpoints\n"
     ]
    }
   ],
   "source": [
    "path = '/youwei_home/Tutorial/glob'\n",
    "for dirPath, dirName, fileName in os.walk(path):\n",
    "    print(dirPath)"
   ]
  },
  {
   "cell_type": "code",
   "execution_count": 8,
   "metadata": {},
   "outputs": [
    {
     "name": "stdout",
     "output_type": "stream",
     "text": [
      "['folder1', 'folder2', '.ipynb_checkpoints']\n",
      "[]\n",
      "[]\n",
      "[]\n"
     ]
    }
   ],
   "source": [
    "path = '/youwei_home/Tutorial/glob'\n",
    "for dirPath, dirName, fileName in os.walk(path):\n",
    "    print(dirName)"
   ]
  },
  {
   "cell_type": "code",
   "execution_count": 9,
   "metadata": {},
   "outputs": [
    {
     "name": "stdout",
     "output_type": "stream",
     "text": [
      "['glob.ipynb', 'abcd.txt', '1234.log']\n",
      "['c.log', 'b.txt', 'a.txt', 'd.log']\n",
      "['2.txt', '4.log', '1.txt', '3.log']\n",
      "['glob-checkpoint.ipynb']\n"
     ]
    }
   ],
   "source": [
    "path = '/youwei_home/Tutorial/glob'\n",
    "for dirPath, dirName, fileName in os.walk(path):\n",
    "    print(fileName)"
   ]
  },
  {
   "cell_type": "markdown",
   "metadata": {},
   "source": [
    "### 2-3. Obtain all path of file."
   ]
  },
  {
   "cell_type": "code",
   "execution_count": 10,
   "metadata": {},
   "outputs": [
    {
     "name": "stdout",
     "output_type": "stream",
     "text": [
      "/youwei_home/Tutorial/glob/glob.ipynb\n",
      "/youwei_home/Tutorial/glob/abcd.txt\n",
      "/youwei_home/Tutorial/glob/1234.log\n",
      "/youwei_home/Tutorial/glob/folder1/c.log\n",
      "/youwei_home/Tutorial/glob/folder1/b.txt\n",
      "/youwei_home/Tutorial/glob/folder1/a.txt\n",
      "/youwei_home/Tutorial/glob/folder1/d.log\n",
      "/youwei_home/Tutorial/glob/folder2/2.txt\n",
      "/youwei_home/Tutorial/glob/folder2/4.log\n",
      "/youwei_home/Tutorial/glob/folder2/1.txt\n",
      "/youwei_home/Tutorial/glob/folder2/3.log\n",
      "/youwei_home/Tutorial/glob/.ipynb_checkpoints/glob-checkpoint.ipynb\n"
     ]
    }
   ],
   "source": [
    "path = '/youwei_home/Tutorial/glob'\n",
    "for dirPath, dirName, fileName in os.walk(path):\n",
    "#     print(dirPath, dirName, fileName)\n",
    "    for file in fileName:\n",
    "        print(os.path.join(dirPath,file))"
   ]
  },
  {
   "cell_type": "markdown",
   "metadata": {},
   "source": [
    "### 3. https://www.delftstack.com/zh-tw/howto/python/how-to-find-files-with-certain-extension-only-in-python/"
   ]
  },
  {
   "cell_type": "code",
   "execution_count": 11,
   "metadata": {},
   "outputs": [
    {
     "data": {
      "text/plain": [
       "['/youwei_home/Tutorial/glob/abcd.txt']"
      ]
     },
     "execution_count": 11,
     "metadata": {},
     "output_type": "execute_result"
    }
   ],
   "source": [
    "import glob\n",
    "\n",
    "targetPattern = '/youwei_home/Tutorial/glob/*.txt'\n",
    "glob.glob(targetPattern)"
   ]
  },
  {
   "cell_type": "code",
   "execution_count": 12,
   "metadata": {},
   "outputs": [
    {
     "data": {
      "text/plain": [
       "['abcd.txt']"
      ]
     },
     "execution_count": 12,
     "metadata": {},
     "output_type": "execute_result"
    }
   ],
   "source": [
    "import os\n",
    "fileDir = '/youwei_home/Tutorial/glob/'\n",
    "fileExt = '.txt'\n",
    "[_ for _ in os.listdir(fileDir) if _.endswith(fileExt)]"
   ]
  },
  {
   "cell_type": "code",
   "execution_count": 13,
   "metadata": {},
   "outputs": [
    {
     "data": {
      "text/plain": [
       "['/youwei_home/Tutorial/glob/folder1/b.txt',\n",
       " '/youwei_home/Tutorial/glob/folder1/a.txt']"
      ]
     },
     "execution_count": 13,
     "metadata": {},
     "output_type": "execute_result"
    }
   ],
   "source": [
    "import os\n",
    "fileDir = '/youwei_home/Tutorial/glob/folder1/'\n",
    "fileExt = '.txt'\n",
    "[os.path.join(fileDir, _) for _ in os.listdir(fileDir) if _.endswith(fileExt)]"
   ]
  },
  {
   "cell_type": "code",
   "execution_count": 14,
   "metadata": {},
   "outputs": [
    {
     "data": {
      "text/plain": [
       "[PosixPath('/youwei_home/Tutorial/glob/folder1/b.txt'),\n",
       " PosixPath('/youwei_home/Tutorial/glob/folder1/a.txt')]"
      ]
     },
     "execution_count": 14,
     "metadata": {},
     "output_type": "execute_result"
    }
   ],
   "source": [
    "import pathlib\n",
    "fileDir = '/youwei_home/Tutorial/glob/folder1/'\n",
    "fileExt = '*.txt'\n",
    "list(pathlib.Path(fileDir).glob(fileExt))"
   ]
  },
  {
   "cell_type": "code",
   "execution_count": 15,
   "metadata": {},
   "outputs": [
    {
     "data": {
      "text/plain": [
       "['/youwei_home/Tutorial/glob/folder1/b.txt',\n",
       " '/youwei_home/Tutorial/glob/folder1/a.txt',\n",
       " '/youwei_home/Tutorial/glob/folder2/2.txt',\n",
       " '/youwei_home/Tutorial/glob/folder2/1.txt']"
      ]
     },
     "execution_count": 15,
     "metadata": {},
     "output_type": "execute_result"
    }
   ],
   "source": [
    "import glob\n",
    "\n",
    "targetPattern = '/youwei_home/Tutorial/glob/**/*.txt'\n",
    "glob.glob(targetPattern)"
   ]
  },
  {
   "cell_type": "code",
   "execution_count": 16,
   "metadata": {},
   "outputs": [
    {
     "data": {
      "text/plain": [
       "['/youwei_home/Tutorial/glob/abcd.txt',\n",
       " '/youwei_home/Tutorial/glob/folder1/b.txt',\n",
       " '/youwei_home/Tutorial/glob/folder1/a.txt',\n",
       " '/youwei_home/Tutorial/glob/folder2/2.txt',\n",
       " '/youwei_home/Tutorial/glob/folder2/1.txt']"
      ]
     },
     "execution_count": 16,
     "metadata": {},
     "output_type": "execute_result"
    }
   ],
   "source": [
    "glob.glob(targetPattern, recursive=True)"
   ]
  },
  {
   "cell_type": "code",
   "execution_count": 17,
   "metadata": {},
   "outputs": [
    {
     "data": {
      "text/plain": [
       "[PosixPath('/youwei_home/Tutorial/glob/abcd.txt'),\n",
       " PosixPath('/youwei_home/Tutorial/glob/folder1/b.txt'),\n",
       " PosixPath('/youwei_home/Tutorial/glob/folder1/a.txt'),\n",
       " PosixPath('/youwei_home/Tutorial/glob/folder2/2.txt'),\n",
       " PosixPath('/youwei_home/Tutorial/glob/folder2/1.txt')]"
      ]
     },
     "execution_count": 17,
     "metadata": {},
     "output_type": "execute_result"
    }
   ],
   "source": [
    "import pathlib\n",
    "fileDir = '/youwei_home/Tutorial/glob/'\n",
    "fileExt = '**/*.txt'\n",
    "list_glob = list(pathlib.Path(fileDir).glob(fileExt))\n",
    "list_glob"
   ]
  },
  {
   "cell_type": "code",
   "execution_count": 18,
   "metadata": {},
   "outputs": [
    {
     "data": {
      "text/plain": [
       "PosixPath('/youwei_home/Tutorial/glob/abcd.txt')"
      ]
     },
     "execution_count": 18,
     "metadata": {},
     "output_type": "execute_result"
    }
   ],
   "source": [
    "list_glob[0]"
   ]
  },
  {
   "cell_type": "markdown",
   "metadata": {},
   "source": [
    "## 4. https://www.delftstack.com/zh-tw/howto/python/how-to-get-all-the-files-of-a-directory/"
   ]
  },
  {
   "cell_type": "code",
   "execution_count": 19,
   "metadata": {},
   "outputs": [
    {
     "name": "stdout",
     "output_type": "stream",
     "text": [
      "['glob.ipynb', 'abcd.txt', '1234.log']\n"
     ]
    }
   ],
   "source": [
    "import os\n",
    "dirPath = '/youwei_home/Tutorial/glob'\n",
    "result = [f for f in os.listdir(dirPath) if os.path.isfile(os.path.join(dirPath, f))]\n",
    "print(result)"
   ]
  },
  {
   "cell_type": "code",
   "execution_count": 20,
   "metadata": {},
   "outputs": [
    {
     "name": "stdout",
     "output_type": "stream",
     "text": [
      "['glob.ipynb', 'abcd.txt', '1234.log']\n"
     ]
    }
   ],
   "source": [
    "import os\n",
    "dirPath = '/youwei_home/Tutorial/glob'\n",
    "result = next(os.walk(dirPath))[2]\n",
    "print(result)"
   ]
  },
  {
   "cell_type": "code",
   "execution_count": 21,
   "metadata": {},
   "outputs": [
    {
     "name": "stdout",
     "output_type": "stream",
     "text": [
      "['/youwei_home/Tutorial/glob/glob.ipynb', '/youwei_home/Tutorial/glob/abcd.txt', '/youwei_home/Tutorial/glob/1234.log']\n"
     ]
    }
   ],
   "source": [
    "import glob\n",
    "dirPathPattern = '/youwei_home/Tutorial/glob/*.*'\n",
    "result = glob.glob(dirPathPattern)\n",
    "print(result)"
   ]
  },
  {
   "cell_type": "code",
   "execution_count": null,
   "metadata": {},
   "outputs": [],
   "source": []
  }
 ],
 "metadata": {
  "kernelspec": {
   "display_name": "Python 3",
   "language": "python",
   "name": "python3"
  },
  "language_info": {
   "codemirror_mode": {
    "name": "ipython",
    "version": 3
   },
   "file_extension": ".py",
   "mimetype": "text/x-python",
   "name": "python",
   "nbconvert_exporter": "python",
   "pygments_lexer": "ipython3",
   "version": "3.8.5"
  }
 },
 "nbformat": 4,
 "nbformat_minor": 4
}
