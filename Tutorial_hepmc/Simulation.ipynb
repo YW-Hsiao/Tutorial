{
 "cells": [
  {
   "cell_type": "markdown",
   "metadata": {},
   "source": [
    "## 1. Import Packages"
   ]
  },
  {
   "cell_type": "markdown",
   "metadata": {},
   "source": [
    "#### Note: For each new container such as alan200276/centos:SVJsimulation, you must command \"pip3 install tqdm\" in terminal and restart python."
   ]
  },
  {
   "cell_type": "code",
   "execution_count": 1,
   "metadata": {},
   "outputs": [],
   "source": [
    "import os\n",
    "from tqdm import tqdm"
   ]
  },
  {
   "cell_type": "markdown",
   "metadata": {},
   "source": [
    "## 2. Creat Folders and All Paths"
   ]
  },
  {
   "cell_type": "code",
   "execution_count": 2,
   "metadata": {},
   "outputs": [],
   "source": [
    "path_txt = '/youwei_home/Tutorial_hepmc/txt/'\n",
    "path_out_lhe = '/youwei_home/Tutorial_hepmc/sm'\n",
    "path_tutorialhepmc = '/youwei_home/Tutorial_hepmc/'\n",
    "path_mg5aMC = '/root/MG5_aMC_v2_7_3/bin/mg5_aMC'  # type where your mg5_aMC is\n",
    "path_lhegz = '/youwei_home/Tutorial_hepmc/sm/Events/run_01/unweighted_events.lhe.gz'\n"
   ]
  },
  {
   "cell_type": "code",
   "execution_count": 3,
   "metadata": {},
   "outputs": [
    {
     "data": {
      "text/plain": [
       "0"
      ]
     },
     "execution_count": 3,
     "metadata": {},
     "output_type": "execute_result"
    }
   ],
   "source": [
    "os.system('mkdir '+path_txt)"
   ]
  },
  {
   "cell_type": "markdown",
   "metadata": {},
   "source": [
    "## 3. Generate LHE Parameters Setting .txt"
   ]
  },
  {
   "cell_type": "code",
   "execution_count": 4,
   "metadata": {},
   "outputs": [],
   "source": [
    "def gen_txt(i, fname = 'test',\n",
    "            path_txt = '/youwei_home/Tutorial_hepmc/txt/',\n",
    "            path_out_lhe = '/youwei_home/Tutorial_hepmc/sm'):\n",
    "    \n",
    "    fname = fname + str(i) + '.txt'\n",
    "    \n",
    "    nevent = 10000\n",
    "    ECM = 7000  # Central of mass energy GeV\n",
    "    xqcut = 3\n",
    "    \n",
    "    f = open(path_txt+fname, 'w')\n",
    "    f.write('import model sm \\n')\n",
    "    f.write('define p = g u c d s u~ c~ d~ s~ \\n')\n",
    "    f.write('define j = g u c d s u~ c~ d~ s~ \\n')\n",
    "    f.write('define l+ = e+ mu+ \\n')\n",
    "    f.write('define l- = e- mu- \\n')\n",
    "    f.write('define vl = ve vm vt \\n')\n",
    "    f.write('define vl~ = ve~ vm~ vt~ \\n')\n",
    "    f.write('generate p p > l+ l- QED=2 QCD=0 @1 \\n')\n",
    "    f.write('add process p p > l+ l- j QED=2 QCD=2 @2 \\n')\n",
    "    f.write('add process p p > l+ l- j j QED=2 QCD=4 @3 \\n')\n",
    "    \n",
    "    f.write('output '+path_out_lhe+'\\n')\n",
    "    f.write('launch '+path_out_lhe+'\\n')\n",
    "    f.write('\\n')\n",
    "    f.write('shower=OFF \\n')\n",
    "    f.write('detector=OFF \\n')\n",
    "    f.write('analysis=OFF \\n')\n",
    "    f.write('\\n')\n",
    "    \n",
    "    f.write('set run_card nevents '+str(nevent)+'\\n')\n",
    "    f.write('set run_card ebeam1 '+str(ECM/2)+'\\n')\n",
    "    f.write('set run_card ebeam2 '+str(ECM/2)+'\\n')\n",
    "    f.write('set run_card pdlabel lhapdf \\n')  # For MG5_aMC_v2_7_3 version.\n",
    "    f.write('\\n')\n",
    "    \n",
    "    f.write('set ickkw 0 \\n')\n",
    "    f.write('set xqcut '+str(xqcut)+'\\n')\n",
    "    f.write('set maxjetflavor 4 \\n')\n",
    "    f.write('set alpsfact 1 \\n')\n",
    "    f.write('\\n')\n",
    "    \n",
    "    f.write('set iseed 21 \\n')\n",
    "    f.write('set drjj 0.01 \\n')\n",
    "    f.write('set ktdurham -1 \\n')\n",
    "    f.write('set dparameter 0.4 \\n')\n",
    "    \n",
    "    f.close()  # Good habit"
   ]
  },
  {
   "cell_type": "code",
   "execution_count": 5,
   "metadata": {},
   "outputs": [],
   "source": [
    "gen_txt(0)"
   ]
  },
  {
   "cell_type": "markdown",
   "metadata": {},
   "source": [
    "## 4. Parton Level"
   ]
  },
  {
   "cell_type": "code",
   "execution_count": 7,
   "metadata": {},
   "outputs": [
    {
     "data": {
      "text/plain": [
       "0"
      ]
     },
     "execution_count": 7,
     "metadata": {},
     "output_type": "execute_result"
    }
   ],
   "source": [
    "path_txt = '/youwei_home/Tutorial_hepmc/txt/'\n",
    "fname = 'test'\n",
    "fnamei = fname + str(0) + '.txt'\n",
    "path_mg5aMC = '/root/MG5_aMC_v2_7_3/bin/mg5_aMC'  # type where your mg5_aMC is\n",
    "\n",
    "os.system('nohup ' + path_mg5aMC +' '+ path_txt + fnamei + ' > ' + path_txt + fname+str(0)+'.log 2>&1 &')"
   ]
  },
  {
   "cell_type": "code",
   "execution_count": null,
   "metadata": {},
   "outputs": [],
   "source": [
    "path_lhegz = '/youwei_home/Tutorial_hepmc/sm/Events/run_01/unweighted_events.lhe.gz'\n",
    "\n",
    "os.system('gzip -d ' + path_lhegz)"
   ]
  },
  {
   "cell_type": "markdown",
   "metadata": {},
   "source": [
    "## 5. Generate Delphes & Pythia Parameters Setting .cmnd and .tcl"
   ]
  },
  {
   "cell_type": "code",
   "execution_count": null,
   "metadata": {},
   "outputs": [],
   "source": []
  },
  {
   "cell_type": "code",
   "execution_count": null,
   "metadata": {},
   "outputs": [],
   "source": []
  },
  {
   "cell_type": "code",
   "execution_count": null,
   "metadata": {},
   "outputs": [],
   "source": []
  }
 ],
 "metadata": {
  "kernelspec": {
   "display_name": "Python 3",
   "language": "python",
   "name": "python3"
  },
  "language_info": {
   "codemirror_mode": {
    "name": "ipython",
    "version": 3
   },
   "file_extension": ".py",
   "mimetype": "text/x-python",
   "name": "python",
   "nbconvert_exporter": "python",
   "pygments_lexer": "ipython3",
   "version": "3.8.5"
  }
 },
 "nbformat": 4,
 "nbformat_minor": 4
}
